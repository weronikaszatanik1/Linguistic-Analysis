{
  "nbformat": 4,
  "nbformat_minor": 0,
  "metadata": {
    "colab": {
      "provenance": []
    },
    "kernelspec": {
      "name": "python3",
      "display_name": "Python 3"
    },
    "language_info": {
      "name": "python"
    }
  },
  "cells": [
    {
      "cell_type": "markdown",
      "source": [
        "# **Welcome to my interactive essay!**"
      ],
      "metadata": {
        "id": "4kIe4HLdtZEY"
      }
    },
    {
      "cell_type": "markdown",
      "source": [
        "## I would like to share with you my linguistic analysis of *ted.com* web page where I always seek inspiration and which I treat as the fount of **all knowledge**!"
      ],
      "metadata": {
        "id": "Y4v2AqlNtXmZ"
      }
    },
    {
      "cell_type": "markdown",
      "source": [
        "But first, let me scrap the data from the page using a Python code :)"
      ],
      "metadata": {
        "id": "HV7fVOsewaBY"
      }
    },
    {
      "cell_type": "code",
      "source": [
        "\n",
        "import requests\n",
        "page = requests.get(\"https://ideas.ted.com/how-to-be-a-better-human-podcast-tips-advice/\")\n",
        "print(page)"
      ],
      "metadata": {
        "colab": {
          "base_uri": "https://localhost:8080/"
        },
        "id": "tFqplxFOwO-3",
        "outputId": "a691d9f0-8217-4660-ad1f-eeed9656ad11"
      },
      "execution_count": 5,
      "outputs": [
        {
          "output_type": "stream",
          "name": "stdout",
          "text": [
            "<Response [200]>\n"
          ]
        }
      ]
    },
    {
      "cell_type": "markdown",
      "source": [
        "As the page is already imported we need to import *BeautifulSoup* package which allows parsing HTML and XML documents! Isn't that great?!\n",
        "\n",
        "It is used here to extract the data from the web."
      ],
      "metadata": {
        "id": "bpo8zxCUwyQu"
      }
    },
    {
      "cell_type": "code",
      "source": [
        "from bs4 import BeautifulSoup\n",
        "soup = BeautifulSoup(page.content, 'html.parser')"
      ],
      "metadata": {
        "id": "lYOoCUHow5SZ"
      },
      "execution_count": 6,
      "outputs": []
    },
    {
      "cell_type": "markdown",
      "source": [
        "Now let's find all of the text between paragraph tags and strip out the HTML!"
      ],
      "metadata": {
        "id": "ZaWAnu-Px-ih"
      }
    },
    {
      "cell_type": "code",
      "source": [
        "paras = soup.find_all('p')\n",
        "print(paras)"
      ],
      "metadata": {
        "colab": {
          "base_uri": "https://localhost:8080/"
        },
        "id": "2UmU94zsw42C",
        "outputId": "27d70b59-a226-46c2-ace7-bfad722dcb2f"
      },
      "execution_count": 7,
      "outputs": [
        {
          "output_type": "stream",
          "name": "stdout",
          "text": [
            "[<p><em>Ever wish you had go-to experts that you could tap for advice in all the varied areas of your life — your job, your home, your finances, even your emotions? TED has got you covered! </em></p>, <p><em>In our </em><a href=\"http://link.chtbl.com/ELygPTZC\" rel=\"noopener\" target=\"_blank\">How to Be a Better Human</a><em><a href=\"http://link.chtbl.com/ELygPTZC\" rel=\"noopener\" target=\"_blank\"> podcast</a>, host Chris Duffy speaks to an exciting mix of world-class researchers, thinkers and doers (read on to find out more!) and learns actionable takeaways that we can all use to improve our days and nights. Read on to learn the advice that he’s personally found the most helpful, and <a href=\"http://link.chtbl.com/ELygPTZC\" rel=\"noopener\" target=\"_blank\">listen to episodes here</a>.</em></p>, <p><strong>As host of <a href=\"https://link.chtbl.com/ELygPTZC\" rel=\"noopener\" target=\"_blank\">TED’s <em>How to Be a Better Human</em> podcast</a>, I’ve found that one of the most common reactions people have upon hearing about the show is to ask me: “What have you learned from it? And how can I become a better human?”</strong></p>, <p>Well, actually, that’s sugarcoating it a bit. If I’m honest, what really happens when people learn about the show is they raise their eyebrows and look me over, seemingly thinking: “Who the heck are you, podcast boy, to think you can tell us about becoming a better human?”</p>, <p>That’s why I almost always quickly add, “I’m not the better human of the title! The better humans are the guests, and I’m just a regular person trying to understand their ideas.”</p>, <p><strong>That being said, over two seasons and 62 episodes featuring interviews with a fascinating and diverse group of people — including a sleep researcher, a Native American chef, a data journalist and an award-winning Broadway set designer — even a lug like me has  picked up some insights.</strong></p>, <p>Here are the pieces of advice that have stuck in my brain and that I’ve tried to apply in my own life:</p>, <p><a href=\"https://www.ted.com/talks/george_blair_west_3_ways_to_build_a_happy_marriage_and_avoid_divorce?language=en\" rel=\"noopener\" target=\"_blank\">George Blair-West MD</a> is an Australian relationship expert, researcher and psychiatrist, and he’s been married for 34 years. He told me that the key to a long-lasting relationship of any kind is getting into a love triangle — unfortunately, not the kind you see on a <em>telenovela</em>.</p>, <p>No, what George meant by triangle is taking the same three steps over and over in your relationship.</p>, <p>Step one: You have to trust that when you share something vulnerable with your partner, they will respect your trust and not use it against you.</p>, <p>Step two: You test that trust by sharing something with them that you’re anxious about people knowing about you.</p>, <p>And step three: You keep building intimacy as you do this over and over and realize that your partner will still care about you, despite your shortcomings.</p>, <p>OK, it might not seem as spicy as the other kind of love triangle — but secrets, hidden weaknesses and building a deep, meaningful, passionate love? It’s still pretty good!</p>, <p>George’s advice is something that I think about a lot. Every time I’m afraid to have a conversation with my wife or admit how I’m really feeling to her, I remember George’s point that this is the whole thing! The best way to make your relationship deeper and stronger is by letting yourself be human, admitting the things you’re ashamed of and saying them out loud to your partner. Because when you say them and the other person loves you anyway? Ooh, baby! That’s the good stuff.</p>, <p><em><a href=\"https://link.chtbl.com/C9dPjwam\" rel=\"noopener\" target=\"_blank\">Go here</a> to listen to the episode</em></p>, <p><a href=\"https://www.instagram.com/gretamorgan/?hl=en\" rel=\"noopener\" target=\"_blank\">Greta Morgan</a> is a writer and musician whose musical projects include Vampire Weekend, Springtime Carnivore and Gold Motel. She’s toured the world and played in front of huge venues full of adoring fans.</p>, <p>But then one day, she was diagnosed with a vocal disorder — one that took away her ability to sing. Suddenly, her ideas about what her life and her career would look like shifted dramatically.</p>, <p>So what would you do if the thing that defined you disappeared overnight? So many of us have melded our identities with our work, and in the process, we often forget who we really are. When I spoke to Greta, she made such a compelling case for how being forced to redefine herself ended up expanding her understanding of her creativity and resilience.</p>, <p>I’ve similarly struggled with tying my self-worth to my output and my career. Greta offered me a reminder that if we can let go of holding onto our ideas of who we are “supposed to be,” we will allow ourselves to grow and to discover our deeper, more authentic selves.</p>, <p>For me, that means valuing creative work I make and enjoy personally even if it doesn’t sell or make any money. And it means me being open to trying new things, even if they don’t necessarily fit under the umbrella of “comedy,” like writing a blog post for TED about how to be a better human.</p>, <p><em><a href=\"https://link.chtbl.com/P5cZYzFe\" rel=\"noopener\" target=\"_blank\">Go here</a> to listen to the episode</em></p>, <p>I have never identified with a joke more than when I heard comedian John Mulaney say: “You could pour hot soup on my lap, and I’ll probably apologize to you.”</p>, <p>I hate conflict, and I never want to make a fuss or create an uncomfortable situation. But my conversation with <a href=\"https://www.ted.com/talks/luvvie_ajayi_jones_get_comfortable_with_being_uncomfortable?language=en\" rel=\"noopener\" target=\"_blank\">Luvvie Ajayi Jones</a> convinced me this is actually not a trait to be proud of. Instead, standing up against the tide is a muscle I need to develop and grow instead.</p>, <p>Luvvie self-describes herself as a “professional troublemaker.” She says that if we really want to improve the world and tackle the big, important issues, meekly following the rules is not going to cut it. Talking to her completely reframed the idea of “trouble” for me, prompting me to think of it as a necessary step on the path to improvement rather than as a sign that I was being difficult or not a team player. So now I’m trying to assert myself whenever I feel a twinge of “That’s not right.”</p>, <p>A friend makes a problematic joke? Maybe I can have a conversation with them about it and not just laugh awkwardly.</p>, <p>There’s a person on the street who seems lost or confused? Maybe I can check in rather than assuming that they’d ask if they needed help. (Even typing this one makes me a little nervous since I’m imagining an older man yelling at me that he’s not confused or lost and how dare I insinuate he was!)</p>, <p>But I want to tackle these small scale, lower-stakes moments so I can get more comfortable with being uncomfortable. That way, when the big stuff happens, I’ll have the troublemaking muscles to do what needs to be done. I certainly wouldn’t say I’m a professional troublemaker yet, but maybe I’m an aspiring amateur.</p>, <p><em><a href=\"https://link.chtbl.com/XrryCjje\" rel=\"noopener\" target=\"_blank\">Go here </a>to listen to the episode</em></p>, <p><a href=\"https://www.fransjohansson.com/about\" rel=\"noopener\" target=\"_blank\">Frans Johansson</a> has spent his career studying innovation and what makes some ideas truly groundbreaking. One of the things that he’s discovered is it’s easy to find support for your ideas if you’re only making incremental changes.</p>, <p>Let’s say it’s 1970, and you’re working on making home telephones 10 percent more efficient. Everyone at the phone company would have been likely to get on board. But if you told them you were working on an idea to make phones that could work outdoors and without any wires, you’d likely be out in the cold. And yet, looking back, we can see clearly which idea was more valuable.</p>, <p>I’ve been trying to embrace that idea more in my own life — to take bigger swings. Frans says if you want to come up with novel solutions, you have to discard the first few things that come to mind, the obvious answers.</p>, <p>Try something bizarre! It might not work, but as Frans says, “The single most important factor is that you are interrupting your default thought.” Plus, when I set my goal as simply “come up with some terrible ideas” I immediately feel better, because I am so good at having bad ideas. In fact, I’ve decided it’s my specialty.</p>, <p><em><a href=\"https://link.chtbl.com/uFfmdj52\" rel=\"noopener\" target=\"_blank\">Go here</a> to listen to the episode</em></p>, <p>I talk for a living, whether it’s hosting this podcast, doing standup or pitching jokes for a TV show. But still, one of the times I’ve been most terrified when doing this podcast was when I was interviewing <a href=\"https://www.ted.com/talks/celeste_headlee_10_ways_to_have_a_better_conversation?language=en\" rel=\"noopener\" target=\"_blank\">Celeste Headlee</a>. She’s an award-winning journalist who has done everything from anchor morning news on public radio to covering presidential campaigns. She’s an expert on great conversations. So the pressure was high to have our conversation be… not terrible, you know?</p>, <p>Luckily, Celeste made my job easy and offered plenty of practical tips including how to pick one conversational skill to work on at a time. This small step can dramatically improve your relationships and your outcomes at work. For me, I’m working on shutting up more and, as Celeste puts it, “not equating talking with conversing.” Because if you want to have a great conversation, it’s not about following any tips and tricks for “seeming engaged” in the conversation – you have to actually be engaged. So I will now shut up.</p>, <p><em><a href=\"https://link.chtbl.com/oF0m7CeC\" rel=\"noopener\" target=\"_blank\">Go here</a> to listen to the episode</em></p>, <p><a href=\"https://www.ted.com/talks/michael_schur_how_ethics_can_help_you_make_better_decisions?language=en\" rel=\"noopener\" target=\"_blank\">Michael Schur</a> is the comedy writer behind so many of my favorite TV shows, like Saturday Night Live, The Office, Parks and Recreation, The Good Place. (And, very occasionally in front of the scenes, like when he played Dwight’s terrifying cousin Mose in The Office). But Michael’s true passion isn’t jokes; it’s moral philosophy.</p>, <p>In our episode, Michael talked to me about why he’s obsessed with chasing after the eternal, perhaps unanswerable question of “how to be perfect” and why he believes caring about ethics — on any level — can actually make a difference. Whether it’s deciding which brand of environmentally friendly toilet paper I should buy (or should I actually just switch over to an electronic bidet), agonizing over if it’s OK to listen to music made by a terrible person, or deciding if it’s OK to lie in a list of ways to become a better person, I’m comforted by Michael’s reminder that people have been struggling over these questions for thousands of years. (Maybe not these exact questions, I don’t think electronic bidets existed until recently.)</p>, <p>He argues that the right thing to do is engage with the questions rather than ignore them and try to find a moral framework that we can stand by and stick to. I’m not there yet, but I’m thinking more deeply about the ethical quandaries inevitably posed by every decision I make (and I decided I’m just not ready for a bidet quite yet. Maybe next year …)</p>, <p><em><a href=\"https://link.chtbl.com/5wlFZLZR\" rel=\"noopener\" target=\"_blank\">Go here</a> to listen to the episode</em></p>, <p><i><span style=\"font-weight: 400;\">Enjoyed this article? The advice doesn’t end here — we’re just getting started with new weekly episodes of How to Be a Better Human throughout the year. <a href=\"https://link.chtbl.com/ELygPTZC\" rel=\"noopener\" target=\"_blank\">Give it a listen</a> to receive more delicious, useful bites of insight that can help you in all parts of your life </span></i><i><span style=\"font-weight: 400;\">here</span></i><i><span style=\"font-weight: 400;\">.</span></i></p>, <p><em>Watch this special <a href=\"https://www.ted.com/dashboard/membership\" rel=\"noopener\" target=\"_blank\">TED Membership</a> conversation with Luvvie Ajayi Jones now:  </em></p>, <p><iframe allowfullscreen=\"\" frameborder=\"0\" height=\"355\" mozallowfullscreen=\"\" scrolling=\"no\" src=\"https://embed.ted.com/talks/luvvie_ajayi_jones_how_to_be_a_professional_troublemaker\" title=\"Luvvie Ajayi Jones: How to be a professional troublemaker\" webkitallowfullscreen=\"\" width=\"630\"></iframe></p>, <p><strong><a href=\"https://ideas.ted.com/author/chris-duffy/\">Chris Duffy</a></strong>  is a comedian, TV writer and radio/podcast host. He has written for National Geographic Explorer and for both seasons of Wyatt Cenac's Problem Areas on HBO (executive produced by John Oliver). Duffy created the public radio program \"You're the Expert\" and currently hosts the streaming show \"Wrong Answers Only\" for the National Academy of Sciences. He is both a former fifth-grade teacher and a former fifth-grade student.</p>]\n"
          ]
        }
      ]
    },
    {
      "cell_type": "markdown",
      "source": [
        "We may now create a **for loop** to extract pure text from the page!"
      ],
      "metadata": {
        "id": "TFtv5VPW0GsP"
      }
    },
    {
      "cell_type": "code",
      "source": [
        "only_text = []\n",
        "for el in paras:\n",
        "  if len(el.getText().strip()) > 0:\n",
        "    only_text.append(el.getText().strip())\n",
        "print (only_text)"
      ],
      "metadata": {
        "colab": {
          "base_uri": "https://localhost:8080/"
        },
        "id": "pwspL1hlzEgH",
        "outputId": "0a2c1678-ad6d-4b6e-df40-8eecef8f7b18"
      },
      "execution_count": 8,
      "outputs": [
        {
          "output_type": "stream",
          "name": "stdout",
          "text": [
            "['Ever wish you had go-to experts that you could tap for advice in all the varied areas of your life — your job, your home, your finances, even your emotions? TED has got you covered!', 'In our How to Be a Better Human podcast, host Chris Duffy speaks to an exciting mix of world-class researchers, thinkers and doers (read on to find out more!) and learns actionable takeaways that we can all use to improve our days and nights. Read on to learn the advice that he’s personally found the most helpful, and listen to episodes here.', 'As host of TED’s How to Be a Better Human podcast, I’ve found that one of the most common reactions people have upon hearing about the show is to ask me: “What have you learned from it? And how can I become a better human?”', 'Well, actually, that’s sugarcoating it a bit. If I’m honest, what really happens when people learn about the show is they raise their eyebrows and look me over, seemingly thinking: “Who the heck are you, podcast boy, to think you can tell us about becoming a better human?”', 'That’s why I almost always quickly add, “I’m not the better human of the title! The better humans are the guests, and I’m just a regular person trying to understand their ideas.”', 'That being said, over two seasons and 62 episodes featuring interviews with a fascinating and diverse group of people — including a sleep researcher, a Native American chef, a data journalist and an award-winning Broadway set designer — even a lug like me has\\xa0 picked up some insights.', 'Here are the pieces of advice that have stuck in my brain and that I’ve tried to apply in my own life:', 'George Blair-West MD is an Australian relationship expert, researcher and psychiatrist, and he’s been married for 34 years. He told me that the key to a long-lasting relationship of any kind is getting into a love triangle — unfortunately, not the kind you see on a telenovela.', 'No, what George meant by triangle is taking the same three steps over and over in your relationship.', 'Step one: You have to trust that when you share something vulnerable with your partner, they will respect your trust and not use it against you.', 'Step two: You test that trust by sharing something with them that you’re anxious about people knowing about you.', 'And step three: You keep building intimacy as you do this over and over and realize that your partner will still care about you, despite your shortcomings.', 'OK, it might not seem as spicy as the other kind of love triangle — but secrets, hidden weaknesses and building a deep, meaningful, passionate love? It’s still pretty good!', 'George’s advice is something that I think about a lot. Every time I’m afraid to have a conversation with my wife or admit how I’m really feeling to her, I remember George’s point that this is the whole thing! The best way to make your relationship deeper and stronger is by letting yourself be human, admitting the things you’re ashamed of and saying them out loud to your partner. Because when you say them and the other person loves you anyway? Ooh, baby! That’s the good stuff.', 'Go here to listen to the episode', 'Greta Morgan is a writer and musician whose musical projects include Vampire Weekend, Springtime Carnivore and Gold Motel. She’s toured the world and played in front of huge venues full of adoring fans.', 'But then one day, she was diagnosed with a vocal disorder — one that took away her ability to sing. Suddenly, her ideas about what her life and her career would look like shifted dramatically.', 'So what would you do if the thing that defined you disappeared overnight? So many of us have melded our identities with our work, and in the process, we often forget who we really are. When I spoke to Greta, she made such a compelling case for how being forced to redefine herself ended up expanding her understanding of her creativity and resilience.', 'I’ve similarly struggled with tying my self-worth to my output and my career. Greta offered me a reminder that if we can let go of holding onto our ideas of who we are “supposed to be,” we will allow ourselves to grow and to discover our deeper, more authentic selves.', 'For me, that means valuing creative work I make and enjoy personally even if it doesn’t sell or make any money. And it means me being open to trying new things, even if they don’t necessarily fit under the umbrella of “comedy,” like writing a blog post for TED about how to be a better human.', 'Go here to listen to the episode', 'I have never identified with a joke more than when I heard comedian John Mulaney say: “You could pour hot soup on my lap, and I’ll probably apologize to you.”', 'I hate conflict, and I never want to make a fuss or create an uncomfortable situation. But my conversation with Luvvie Ajayi Jones convinced me this is actually not a trait to be proud of. Instead, standing up against the tide is a muscle I need to develop and grow instead.', 'Luvvie self-describes herself as a “professional troublemaker.” She says that if we really want to improve the world and tackle the big, important issues, meekly following the rules is not going to cut it. Talking to her completely reframed the idea of “trouble” for me, prompting me to think of it as a necessary step on the path to improvement rather than as a sign that I was being difficult or not a team player. So now I’m trying to assert myself whenever I feel a twinge of “That’s not right.”', 'A friend makes a problematic joke? Maybe I can have a conversation with them about it and not just laugh awkwardly.', 'There’s a person on the street who seems lost or confused? Maybe I can check in rather than assuming that they’d ask if they needed help. (Even typing this one makes me a little nervous since I’m imagining an older man yelling at me that he’s not confused or lost and how dare I insinuate he was!)', 'But I want to tackle these small scale, lower-stakes moments so I can get more comfortable with being uncomfortable. That way, when the big stuff happens, I’ll have the troublemaking muscles to do what needs to be done. I certainly wouldn’t say I’m a professional troublemaker yet, but maybe I’m an aspiring amateur.', 'Go here to listen to the episode', 'Frans Johansson has spent his career studying innovation and what makes some ideas truly groundbreaking. One of the things that he’s discovered is it’s easy to find support for your ideas if you’re only making incremental changes.', 'Let’s say it’s 1970, and you’re working on making home telephones 10 percent more efficient. Everyone at the phone company would have been likely to get on board. But if you told them you were working on an idea to make phones that could work outdoors and without any wires, you’d likely be out in the cold. And yet, looking back, we can see clearly which idea was more valuable.', 'I’ve been trying to embrace that idea more in my own life — to take bigger swings. Frans says if you want to come up with novel solutions, you have to discard the first few things that come to mind, the obvious answers.', 'Try something bizarre! It might not work, but as Frans says, “The single most important factor is that you are interrupting your default thought.” Plus, when I set my goal as simply “come up with some terrible ideas” I immediately feel better, because I am so good at having bad ideas. In fact, I’ve decided it’s my specialty.', 'Go here to listen to the episode', 'I talk for a living, whether it’s hosting this podcast, doing standup or pitching jokes for a TV show. But still, one of the times I’ve been most terrified when doing this podcast was when I was interviewing Celeste Headlee. She’s an award-winning journalist who has done everything from anchor morning news on public radio to covering presidential campaigns. She’s an expert on great conversations. So the pressure was high to have our conversation be… not terrible, you know?', 'Luckily, Celeste made my job easy and offered plenty of practical tips including how to pick one conversational skill to work on at a time. This small step can dramatically improve your relationships and your outcomes at work. For me, I’m working on shutting up more and, as Celeste puts it, “not equating talking with conversing.” Because if you want to have a great conversation, it’s not about following any tips and tricks for “seeming engaged” in the conversation – you have to actually be engaged. So I will now shut up.', 'Go here to listen to the episode', 'Michael Schur is the comedy writer behind so many of my favorite TV shows, like Saturday Night Live, The Office, Parks and Recreation, The Good Place. (And, very occasionally in front of the scenes, like when he played Dwight’s terrifying cousin Mose in The Office). But Michael’s true passion isn’t jokes; it’s moral philosophy.', 'In our episode, Michael talked to me about why he’s obsessed with chasing after the eternal, perhaps unanswerable question of “how to be perfect” and why he believes caring about ethics — on any level — can actually make a difference. Whether it’s deciding which brand of environmentally friendly toilet paper I should buy (or should I actually just switch over to an electronic bidet), agonizing over if it’s OK to listen to music made by a terrible person, or deciding if it’s OK to lie in a list of ways to become a better person, I’m comforted by Michael’s reminder that people have been struggling over these questions for thousands of years. (Maybe not these exact questions, I don’t think electronic bidets existed until recently.)', 'He argues that the right thing to do is engage with the questions rather than ignore them and try to find a moral framework that we can stand by and stick to. I’m not there yet, but I’m thinking more deeply about the ethical quandaries inevitably posed by every decision I make (and I decided I’m just not ready for a bidet quite yet. Maybe next year …)', 'Go here to listen to the episode', 'Enjoyed this article? The advice doesn’t end here — we’re just getting started with new weekly episodes of How to Be a Better Human throughout the year. Give it a listen to receive more delicious, useful bites of insight that can help you in all parts of your life here.', 'Watch this special TED Membership conversation with Luvvie Ajayi Jones now:', 'Chris Duffy  is a comedian, TV writer and radio/podcast host. He has written for National Geographic Explorer and for both seasons of Wyatt Cenac\\'s Problem Areas on HBO (executive produced by John Oliver). Duffy created the public radio program \"You\\'re the Expert\" and currently hosts the streaming show \"Wrong Answers Only\" for the National Academy of Sciences. He is both a former fifth-grade teacher and a former fifth-grade student.']\n"
          ]
        }
      ]
    },
    {
      "cell_type": "markdown",
      "source": [
        "After we prepare a pure text we may import a natural language tool kit to start the **linguistic analysis**!"
      ],
      "metadata": {
        "id": "Ye6JDzT002Ic"
      }
    },
    {
      "cell_type": "code",
      "source": [
        "import nltk\n",
        "nltk.download('all')"
      ],
      "metadata": {
        "colab": {
          "base_uri": "https://localhost:8080/"
        },
        "id": "JinAl0eWzL7p",
        "outputId": "ef3a4e66-b072-4418-f482-c45951c626ea"
      },
      "execution_count": 11,
      "outputs": [
        {
          "output_type": "stream",
          "name": "stderr",
          "text": [
            "[nltk_data] Downloading collection 'all'\n",
            "[nltk_data]    | \n",
            "[nltk_data]    | Downloading package abc to /root/nltk_data...\n",
            "[nltk_data]    |   Package abc is already up-to-date!\n",
            "[nltk_data]    | Downloading package alpino to /root/nltk_data...\n",
            "[nltk_data]    |   Package alpino is already up-to-date!\n",
            "[nltk_data]    | Downloading package averaged_perceptron_tagger to\n",
            "[nltk_data]    |     /root/nltk_data...\n",
            "[nltk_data]    |   Package averaged_perceptron_tagger is already up-\n",
            "[nltk_data]    |       to-date!\n",
            "[nltk_data]    | Downloading package averaged_perceptron_tagger_ru to\n",
            "[nltk_data]    |     /root/nltk_data...\n",
            "[nltk_data]    |   Package averaged_perceptron_tagger_ru is already\n",
            "[nltk_data]    |       up-to-date!\n",
            "[nltk_data]    | Downloading package basque_grammars to\n",
            "[nltk_data]    |     /root/nltk_data...\n",
            "[nltk_data]    |   Package basque_grammars is already up-to-date!\n",
            "[nltk_data]    | Downloading package bcp47 to /root/nltk_data...\n",
            "[nltk_data]    |   Package bcp47 is already up-to-date!\n",
            "[nltk_data]    | Downloading package biocreative_ppi to\n",
            "[nltk_data]    |     /root/nltk_data...\n",
            "[nltk_data]    |   Package biocreative_ppi is already up-to-date!\n",
            "[nltk_data]    | Downloading package bllip_wsj_no_aux to\n",
            "[nltk_data]    |     /root/nltk_data...\n",
            "[nltk_data]    |   Package bllip_wsj_no_aux is already up-to-date!\n",
            "[nltk_data]    | Downloading package book_grammars to\n",
            "[nltk_data]    |     /root/nltk_data...\n",
            "[nltk_data]    |   Package book_grammars is already up-to-date!\n",
            "[nltk_data]    | Downloading package brown to /root/nltk_data...\n",
            "[nltk_data]    |   Package brown is already up-to-date!\n",
            "[nltk_data]    | Downloading package brown_tei to /root/nltk_data...\n",
            "[nltk_data]    |   Package brown_tei is already up-to-date!\n",
            "[nltk_data]    | Downloading package cess_cat to /root/nltk_data...\n",
            "[nltk_data]    |   Package cess_cat is already up-to-date!\n",
            "[nltk_data]    | Downloading package cess_esp to /root/nltk_data...\n",
            "[nltk_data]    |   Package cess_esp is already up-to-date!\n",
            "[nltk_data]    | Downloading package chat80 to /root/nltk_data...\n",
            "[nltk_data]    |   Package chat80 is already up-to-date!\n",
            "[nltk_data]    | Downloading package city_database to\n",
            "[nltk_data]    |     /root/nltk_data...\n",
            "[nltk_data]    |   Package city_database is already up-to-date!\n",
            "[nltk_data]    | Downloading package cmudict to /root/nltk_data...\n",
            "[nltk_data]    |   Package cmudict is already up-to-date!\n",
            "[nltk_data]    | Downloading package comparative_sentences to\n",
            "[nltk_data]    |     /root/nltk_data...\n",
            "[nltk_data]    |   Package comparative_sentences is already up-to-\n",
            "[nltk_data]    |       date!\n",
            "[nltk_data]    | Downloading package comtrans to /root/nltk_data...\n",
            "[nltk_data]    |   Package comtrans is already up-to-date!\n",
            "[nltk_data]    | Downloading package conll2000 to /root/nltk_data...\n",
            "[nltk_data]    |   Package conll2000 is already up-to-date!\n",
            "[nltk_data]    | Downloading package conll2002 to /root/nltk_data...\n",
            "[nltk_data]    |   Package conll2002 is already up-to-date!\n",
            "[nltk_data]    | Downloading package conll2007 to /root/nltk_data...\n",
            "[nltk_data]    |   Package conll2007 is already up-to-date!\n",
            "[nltk_data]    | Downloading package crubadan to /root/nltk_data...\n",
            "[nltk_data]    |   Package crubadan is already up-to-date!\n",
            "[nltk_data]    | Downloading package dependency_treebank to\n",
            "[nltk_data]    |     /root/nltk_data...\n",
            "[nltk_data]    |   Package dependency_treebank is already up-to-date!\n",
            "[nltk_data]    | Downloading package dolch to /root/nltk_data...\n",
            "[nltk_data]    |   Package dolch is already up-to-date!\n",
            "[nltk_data]    | Downloading package europarl_raw to\n",
            "[nltk_data]    |     /root/nltk_data...\n",
            "[nltk_data]    |   Package europarl_raw is already up-to-date!\n",
            "[nltk_data]    | Downloading package extended_omw to\n",
            "[nltk_data]    |     /root/nltk_data...\n",
            "[nltk_data]    |   Package extended_omw is already up-to-date!\n",
            "[nltk_data]    | Downloading package floresta to /root/nltk_data...\n",
            "[nltk_data]    |   Package floresta is already up-to-date!\n",
            "[nltk_data]    | Downloading package framenet_v15 to\n",
            "[nltk_data]    |     /root/nltk_data...\n",
            "[nltk_data]    |   Package framenet_v15 is already up-to-date!\n",
            "[nltk_data]    | Downloading package framenet_v17 to\n",
            "[nltk_data]    |     /root/nltk_data...\n",
            "[nltk_data]    |   Package framenet_v17 is already up-to-date!\n",
            "[nltk_data]    | Downloading package gazetteers to /root/nltk_data...\n",
            "[nltk_data]    |   Package gazetteers is already up-to-date!\n",
            "[nltk_data]    | Downloading package genesis to /root/nltk_data...\n",
            "[nltk_data]    |   Package genesis is already up-to-date!\n",
            "[nltk_data]    | Downloading package gutenberg to /root/nltk_data...\n",
            "[nltk_data]    |   Package gutenberg is already up-to-date!\n",
            "[nltk_data]    | Downloading package ieer to /root/nltk_data...\n",
            "[nltk_data]    |   Package ieer is already up-to-date!\n",
            "[nltk_data]    | Downloading package inaugural to /root/nltk_data...\n",
            "[nltk_data]    |   Package inaugural is already up-to-date!\n",
            "[nltk_data]    | Downloading package indian to /root/nltk_data...\n",
            "[nltk_data]    |   Package indian is already up-to-date!\n",
            "[nltk_data]    | Downloading package jeita to /root/nltk_data...\n",
            "[nltk_data]    |   Package jeita is already up-to-date!\n",
            "[nltk_data]    | Downloading package kimmo to /root/nltk_data...\n",
            "[nltk_data]    |   Package kimmo is already up-to-date!\n",
            "[nltk_data]    | Downloading package knbc to /root/nltk_data...\n",
            "[nltk_data]    |   Package knbc is already up-to-date!\n",
            "[nltk_data]    | Downloading package large_grammars to\n",
            "[nltk_data]    |     /root/nltk_data...\n",
            "[nltk_data]    |   Package large_grammars is already up-to-date!\n",
            "[nltk_data]    | Downloading package lin_thesaurus to\n",
            "[nltk_data]    |     /root/nltk_data...\n",
            "[nltk_data]    |   Package lin_thesaurus is already up-to-date!\n",
            "[nltk_data]    | Downloading package mac_morpho to /root/nltk_data...\n",
            "[nltk_data]    |   Package mac_morpho is already up-to-date!\n",
            "[nltk_data]    | Downloading package machado to /root/nltk_data...\n",
            "[nltk_data]    |   Package machado is already up-to-date!\n",
            "[nltk_data]    | Downloading package masc_tagged to /root/nltk_data...\n",
            "[nltk_data]    |   Package masc_tagged is already up-to-date!\n",
            "[nltk_data]    | Downloading package maxent_ne_chunker to\n",
            "[nltk_data]    |     /root/nltk_data...\n",
            "[nltk_data]    |   Package maxent_ne_chunker is already up-to-date!\n",
            "[nltk_data]    | Downloading package maxent_treebank_pos_tagger to\n",
            "[nltk_data]    |     /root/nltk_data...\n",
            "[nltk_data]    |   Package maxent_treebank_pos_tagger is already up-\n",
            "[nltk_data]    |       to-date!\n",
            "[nltk_data]    | Downloading package moses_sample to\n",
            "[nltk_data]    |     /root/nltk_data...\n",
            "[nltk_data]    |   Package moses_sample is already up-to-date!\n",
            "[nltk_data]    | Downloading package movie_reviews to\n",
            "[nltk_data]    |     /root/nltk_data...\n",
            "[nltk_data]    |   Package movie_reviews is already up-to-date!\n",
            "[nltk_data]    | Downloading package mte_teip5 to /root/nltk_data...\n",
            "[nltk_data]    |   Package mte_teip5 is already up-to-date!\n",
            "[nltk_data]    | Downloading package mwa_ppdb to /root/nltk_data...\n",
            "[nltk_data]    |   Package mwa_ppdb is already up-to-date!\n",
            "[nltk_data]    | Downloading package names to /root/nltk_data...\n",
            "[nltk_data]    |   Package names is already up-to-date!\n",
            "[nltk_data]    | Downloading package nombank.1.0 to /root/nltk_data...\n",
            "[nltk_data]    |   Package nombank.1.0 is already up-to-date!\n",
            "[nltk_data]    | Downloading package nonbreaking_prefixes to\n",
            "[nltk_data]    |     /root/nltk_data...\n",
            "[nltk_data]    |   Package nonbreaking_prefixes is already up-to-date!\n",
            "[nltk_data]    | Downloading package nps_chat to /root/nltk_data...\n",
            "[nltk_data]    |   Package nps_chat is already up-to-date!\n",
            "[nltk_data]    | Downloading package omw to /root/nltk_data...\n",
            "[nltk_data]    |   Package omw is already up-to-date!\n",
            "[nltk_data]    | Downloading package omw-1.4 to /root/nltk_data...\n",
            "[nltk_data]    |   Package omw-1.4 is already up-to-date!\n",
            "[nltk_data]    | Downloading package opinion_lexicon to\n",
            "[nltk_data]    |     /root/nltk_data...\n",
            "[nltk_data]    |   Package opinion_lexicon is already up-to-date!\n",
            "[nltk_data]    | Downloading package panlex_swadesh to\n",
            "[nltk_data]    |     /root/nltk_data...\n",
            "[nltk_data]    |   Package panlex_swadesh is already up-to-date!\n",
            "[nltk_data]    | Downloading package paradigms to /root/nltk_data...\n",
            "[nltk_data]    |   Package paradigms is already up-to-date!\n",
            "[nltk_data]    | Downloading package pe08 to /root/nltk_data...\n",
            "[nltk_data]    |   Package pe08 is already up-to-date!\n",
            "[nltk_data]    | Downloading package perluniprops to\n",
            "[nltk_data]    |     /root/nltk_data...\n",
            "[nltk_data]    |   Package perluniprops is already up-to-date!\n",
            "[nltk_data]    | Downloading package pil to /root/nltk_data...\n",
            "[nltk_data]    |   Package pil is already up-to-date!\n",
            "[nltk_data]    | Downloading package pl196x to /root/nltk_data...\n",
            "[nltk_data]    |   Package pl196x is already up-to-date!\n",
            "[nltk_data]    | Downloading package porter_test to /root/nltk_data...\n",
            "[nltk_data]    |   Package porter_test is already up-to-date!\n",
            "[nltk_data]    | Downloading package ppattach to /root/nltk_data...\n",
            "[nltk_data]    |   Package ppattach is already up-to-date!\n",
            "[nltk_data]    | Downloading package problem_reports to\n",
            "[nltk_data]    |     /root/nltk_data...\n",
            "[nltk_data]    |   Package problem_reports is already up-to-date!\n",
            "[nltk_data]    | Downloading package product_reviews_1 to\n",
            "[nltk_data]    |     /root/nltk_data...\n",
            "[nltk_data]    |   Package product_reviews_1 is already up-to-date!\n",
            "[nltk_data]    | Downloading package product_reviews_2 to\n",
            "[nltk_data]    |     /root/nltk_data...\n",
            "[nltk_data]    |   Package product_reviews_2 is already up-to-date!\n",
            "[nltk_data]    | Downloading package propbank to /root/nltk_data...\n",
            "[nltk_data]    |   Package propbank is already up-to-date!\n",
            "[nltk_data]    | Downloading package pros_cons to /root/nltk_data...\n",
            "[nltk_data]    |   Package pros_cons is already up-to-date!\n",
            "[nltk_data]    | Downloading package ptb to /root/nltk_data...\n",
            "[nltk_data]    |   Package ptb is already up-to-date!\n",
            "[nltk_data]    | Downloading package punkt to /root/nltk_data...\n",
            "[nltk_data]    |   Package punkt is already up-to-date!\n",
            "[nltk_data]    | Downloading package qc to /root/nltk_data...\n",
            "[nltk_data]    |   Package qc is already up-to-date!\n",
            "[nltk_data]    | Downloading package reuters to /root/nltk_data...\n",
            "[nltk_data]    |   Package reuters is already up-to-date!\n",
            "[nltk_data]    | Downloading package rslp to /root/nltk_data...\n",
            "[nltk_data]    |   Package rslp is already up-to-date!\n",
            "[nltk_data]    | Downloading package rte to /root/nltk_data...\n",
            "[nltk_data]    |   Package rte is already up-to-date!\n",
            "[nltk_data]    | Downloading package sample_grammars to\n",
            "[nltk_data]    |     /root/nltk_data...\n",
            "[nltk_data]    |   Package sample_grammars is already up-to-date!\n",
            "[nltk_data]    | Downloading package semcor to /root/nltk_data...\n",
            "[nltk_data]    |   Package semcor is already up-to-date!\n",
            "[nltk_data]    | Downloading package senseval to /root/nltk_data...\n",
            "[nltk_data]    |   Package senseval is already up-to-date!\n",
            "[nltk_data]    | Downloading package sentence_polarity to\n",
            "[nltk_data]    |     /root/nltk_data...\n",
            "[nltk_data]    |   Package sentence_polarity is already up-to-date!\n",
            "[nltk_data]    | Downloading package sentiwordnet to\n",
            "[nltk_data]    |     /root/nltk_data...\n",
            "[nltk_data]    |   Package sentiwordnet is already up-to-date!\n",
            "[nltk_data]    | Downloading package shakespeare to /root/nltk_data...\n",
            "[nltk_data]    |   Package shakespeare is already up-to-date!\n",
            "[nltk_data]    | Downloading package sinica_treebank to\n",
            "[nltk_data]    |     /root/nltk_data...\n",
            "[nltk_data]    |   Package sinica_treebank is already up-to-date!\n",
            "[nltk_data]    | Downloading package smultron to /root/nltk_data...\n",
            "[nltk_data]    |   Package smultron is already up-to-date!\n",
            "[nltk_data]    | Downloading package snowball_data to\n",
            "[nltk_data]    |     /root/nltk_data...\n",
            "[nltk_data]    |   Package snowball_data is already up-to-date!\n",
            "[nltk_data]    | Downloading package spanish_grammars to\n",
            "[nltk_data]    |     /root/nltk_data...\n",
            "[nltk_data]    |   Package spanish_grammars is already up-to-date!\n",
            "[nltk_data]    | Downloading package state_union to /root/nltk_data...\n",
            "[nltk_data]    |   Package state_union is already up-to-date!\n",
            "[nltk_data]    | Downloading package stopwords to /root/nltk_data...\n",
            "[nltk_data]    |   Package stopwords is already up-to-date!\n",
            "[nltk_data]    | Downloading package subjectivity to\n",
            "[nltk_data]    |     /root/nltk_data...\n",
            "[nltk_data]    |   Package subjectivity is already up-to-date!\n",
            "[nltk_data]    | Downloading package swadesh to /root/nltk_data...\n",
            "[nltk_data]    |   Package swadesh is already up-to-date!\n",
            "[nltk_data]    | Downloading package switchboard to /root/nltk_data...\n",
            "[nltk_data]    |   Package switchboard is already up-to-date!\n",
            "[nltk_data]    | Downloading package tagsets to /root/nltk_data...\n",
            "[nltk_data]    |   Package tagsets is already up-to-date!\n",
            "[nltk_data]    | Downloading package timit to /root/nltk_data...\n",
            "[nltk_data]    |   Package timit is already up-to-date!\n",
            "[nltk_data]    | Downloading package toolbox to /root/nltk_data...\n",
            "[nltk_data]    |   Package toolbox is already up-to-date!\n",
            "[nltk_data]    | Downloading package treebank to /root/nltk_data...\n",
            "[nltk_data]    |   Package treebank is already up-to-date!\n",
            "[nltk_data]    | Downloading package twitter_samples to\n",
            "[nltk_data]    |     /root/nltk_data...\n",
            "[nltk_data]    |   Package twitter_samples is already up-to-date!\n",
            "[nltk_data]    | Downloading package udhr to /root/nltk_data...\n",
            "[nltk_data]    |   Package udhr is already up-to-date!\n",
            "[nltk_data]    | Downloading package udhr2 to /root/nltk_data...\n",
            "[nltk_data]    |   Package udhr2 is already up-to-date!\n",
            "[nltk_data]    | Downloading package unicode_samples to\n",
            "[nltk_data]    |     /root/nltk_data...\n",
            "[nltk_data]    |   Package unicode_samples is already up-to-date!\n",
            "[nltk_data]    | Downloading package universal_tagset to\n",
            "[nltk_data]    |     /root/nltk_data...\n",
            "[nltk_data]    |   Package universal_tagset is already up-to-date!\n",
            "[nltk_data]    | Downloading package universal_treebanks_v20 to\n",
            "[nltk_data]    |     /root/nltk_data...\n",
            "[nltk_data]    |   Package universal_treebanks_v20 is already up-to-\n",
            "[nltk_data]    |       date!\n",
            "[nltk_data]    | Downloading package vader_lexicon to\n",
            "[nltk_data]    |     /root/nltk_data...\n",
            "[nltk_data]    |   Package vader_lexicon is already up-to-date!\n",
            "[nltk_data]    | Downloading package verbnet to /root/nltk_data...\n",
            "[nltk_data]    |   Package verbnet is already up-to-date!\n",
            "[nltk_data]    | Downloading package verbnet3 to /root/nltk_data...\n",
            "[nltk_data]    |   Package verbnet3 is already up-to-date!\n",
            "[nltk_data]    | Downloading package webtext to /root/nltk_data...\n",
            "[nltk_data]    |   Package webtext is already up-to-date!\n",
            "[nltk_data]    | Downloading package wmt15_eval to /root/nltk_data...\n",
            "[nltk_data]    |   Package wmt15_eval is already up-to-date!\n",
            "[nltk_data]    | Downloading package word2vec_sample to\n",
            "[nltk_data]    |     /root/nltk_data...\n",
            "[nltk_data]    |   Package word2vec_sample is already up-to-date!\n",
            "[nltk_data]    | Downloading package wordnet to /root/nltk_data...\n",
            "[nltk_data]    |   Package wordnet is already up-to-date!\n",
            "[nltk_data]    | Downloading package wordnet2021 to /root/nltk_data...\n",
            "[nltk_data]    |   Package wordnet2021 is already up-to-date!\n",
            "[nltk_data]    | Downloading package wordnet2022 to /root/nltk_data...\n",
            "[nltk_data]    |   Package wordnet2022 is already up-to-date!\n",
            "[nltk_data]    | Downloading package wordnet31 to /root/nltk_data...\n",
            "[nltk_data]    |   Package wordnet31 is already up-to-date!\n",
            "[nltk_data]    | Downloading package wordnet_ic to /root/nltk_data...\n",
            "[nltk_data]    |   Package wordnet_ic is already up-to-date!\n",
            "[nltk_data]    | Downloading package words to /root/nltk_data...\n",
            "[nltk_data]    |   Package words is already up-to-date!\n",
            "[nltk_data]    | Downloading package ycoe to /root/nltk_data...\n",
            "[nltk_data]    |   Package ycoe is already up-to-date!\n",
            "[nltk_data]    | \n",
            "[nltk_data]  Done downloading collection all\n"
          ]
        },
        {
          "output_type": "execute_result",
          "data": {
            "text/plain": [
              "True"
            ]
          },
          "metadata": {},
          "execution_count": 11
        }
      ]
    },
    {
      "cell_type": "markdown",
      "source": [
        "The code below processes text by tokenizing it into words and then tagging each word with its part of speech which is possible thanks to the *nltk* package! The resulting tagged tuples are stored in the tuples list."
      ],
      "metadata": {
        "id": "i-JLEF4e1oXj"
      }
    },
    {
      "cell_type": "code",
      "source": [
        "tuples = []\n",
        "for sentence in only_text:\n",
        "  tokens = nltk.word_tokenize(sentence)\n",
        "  pos_tagged = nltk.pos_tag(tokens)\n",
        "  for item in pos_tagged:\n",
        "    tuples.append(item)\n",
        "\n",
        "print (tuples)"
      ],
      "metadata": {
        "colab": {
          "base_uri": "https://localhost:8080/"
        },
        "id": "fwyADnWy1lbe",
        "outputId": "790870b7-c2bb-4407-b659-281e89f02c58"
      },
      "execution_count": 12,
      "outputs": [
        {
          "output_type": "stream",
          "name": "stdout",
          "text": [
            "[('Ever', 'RB'), ('wish', 'VB'), ('you', 'PRP'), ('had', 'VBD'), ('go-to', 'JJ'), ('experts', 'NNS'), ('that', 'IN'), ('you', 'PRP'), ('could', 'MD'), ('tap', 'VB'), ('for', 'IN'), ('advice', 'NN'), ('in', 'IN'), ('all', 'PDT'), ('the', 'DT'), ('varied', 'JJ'), ('areas', 'NNS'), ('of', 'IN'), ('your', 'PRP$'), ('life', 'NN'), ('—', 'VB'), ('your', 'PRP$'), ('job', 'NN'), (',', ','), ('your', 'PRP$'), ('home', 'NN'), (',', ','), ('your', 'PRP$'), ('finances', 'NNS'), (',', ','), ('even', 'RB'), ('your', 'PRP$'), ('emotions', 'NNS'), ('?', '.'), ('TED', 'NNP'), ('has', 'VBZ'), ('got', 'VBD'), ('you', 'PRP'), ('covered', 'VBD'), ('!', '.'), ('In', 'IN'), ('our', 'PRP$'), ('How', 'WRB'), ('to', 'TO'), ('Be', 'VB'), ('a', 'DT'), ('Better', 'NNP'), ('Human', 'NNP'), ('podcast', 'NN'), (',', ','), ('host', 'NN'), ('Chris', 'NNP'), ('Duffy', 'NNP'), ('speaks', 'VBZ'), ('to', 'TO'), ('an', 'DT'), ('exciting', 'JJ'), ('mix', 'NN'), ('of', 'IN'), ('world-class', 'NN'), ('researchers', 'NNS'), (',', ','), ('thinkers', 'NNS'), ('and', 'CC'), ('doers', 'NNS'), ('(', '('), ('read', 'VB'), ('on', 'IN'), ('to', 'TO'), ('find', 'VB'), ('out', 'RP'), ('more', 'JJR'), ('!', '.'), (')', ')'), ('and', 'CC'), ('learns', 'VBZ'), ('actionable', 'JJ'), ('takeaways', 'NNS'), ('that', 'IN'), ('we', 'PRP'), ('can', 'MD'), ('all', 'DT'), ('use', 'VB'), ('to', 'TO'), ('improve', 'VB'), ('our', 'PRP$'), ('days', 'NNS'), ('and', 'CC'), ('nights', 'NNS'), ('.', '.'), ('Read', 'VB'), ('on', 'IN'), ('to', 'TO'), ('learn', 'VB'), ('the', 'DT'), ('advice', 'NN'), ('that', 'IN'), ('he', 'PRP'), ('’', 'VBZ'), ('s', 'JJ'), ('personally', 'RB'), ('found', 'VBN'), ('the', 'DT'), ('most', 'RBS'), ('helpful', 'JJ'), (',', ','), ('and', 'CC'), ('listen', 'VB'), ('to', 'TO'), ('episodes', 'VB'), ('here', 'RB'), ('.', '.'), ('As', 'IN'), ('host', 'NN'), ('of', 'IN'), ('TED', 'NNP'), ('’', 'NNP'), ('s', 'VBD'), ('How', 'NNP'), ('to', 'TO'), ('Be', 'VB'), ('a', 'DT'), ('Better', 'NNP'), ('Human', 'NNP'), ('podcast', 'NN'), (',', ','), ('I', 'PRP'), ('’', 'VBP'), ('ve', 'RB'), ('found', 'VBN'), ('that', 'IN'), ('one', 'CD'), ('of', 'IN'), ('the', 'DT'), ('most', 'RBS'), ('common', 'JJ'), ('reactions', 'NNS'), ('people', 'NNS'), ('have', 'VBP'), ('upon', 'IN'), ('hearing', 'VBG'), ('about', 'IN'), ('the', 'DT'), ('show', 'NN'), ('is', 'VBZ'), ('to', 'TO'), ('ask', 'VB'), ('me', 'PRP'), (':', ':'), ('“', 'VB'), ('What', 'WP'), ('have', 'VBP'), ('you', 'PRP'), ('learned', 'VBN'), ('from', 'IN'), ('it', 'PRP'), ('?', '.'), ('And', 'CC'), ('how', 'WRB'), ('can', 'MD'), ('I', 'PRP'), ('become', 'VB'), ('a', 'DT'), ('better', 'JJR'), ('human', 'NN'), ('?', '.'), ('”', 'NN'), ('Well', 'RB'), (',', ','), ('actually', 'RB'), (',', ','), ('that', 'IN'), ('’', 'NNP'), ('s', 'VBD'), ('sugarcoating', 'VBG'), ('it', 'PRP'), ('a', 'DT'), ('bit', 'NN'), ('.', '.'), ('If', 'IN'), ('I', 'PRP'), ('’', 'VBP'), ('m', 'JJ'), ('honest', 'NN'), (',', ','), ('what', 'WP'), ('really', 'RB'), ('happens', 'VBZ'), ('when', 'WRB'), ('people', 'NNS'), ('learn', 'VBP'), ('about', 'IN'), ('the', 'DT'), ('show', 'NN'), ('is', 'VBZ'), ('they', 'PRP'), ('raise', 'VBP'), ('their', 'PRP$'), ('eyebrows', 'NNS'), ('and', 'CC'), ('look', 'VB'), ('me', 'PRP'), ('over', 'IN'), (',', ','), ('seemingly', 'RB'), ('thinking', 'VBG'), (':', ':'), ('“', 'NN'), ('Who', 'WP'), ('the', 'DT'), ('heck', 'NN'), ('are', 'VBP'), ('you', 'PRP'), (',', ','), ('podcast', \"''\"), ('boy', 'NN'), (',', ','), ('to', 'TO'), ('think', 'VB'), ('you', 'PRP'), ('can', 'MD'), ('tell', 'VB'), ('us', 'PRP'), ('about', 'IN'), ('becoming', 'VBG'), ('a', 'DT'), ('better', 'JJR'), ('human', 'NN'), ('?', '.'), ('”', 'NN'), ('That', 'DT'), ('’', 'VBD'), ('s', 'JJ'), ('why', 'WRB'), ('I', 'PRP'), ('almost', 'RB'), ('always', 'RB'), ('quickly', 'RB'), ('add', 'VB'), (',', ','), ('“', 'FW'), ('I', 'PRP'), ('’', 'VBP'), ('m', 'RB'), ('not', 'RB'), ('the', 'DT'), ('better', 'JJR'), ('human', 'NN'), ('of', 'IN'), ('the', 'DT'), ('title', 'NN'), ('!', '.'), ('The', 'DT'), ('better', 'JJR'), ('humans', 'NNS'), ('are', 'VBP'), ('the', 'DT'), ('guests', 'NNS'), (',', ','), ('and', 'CC'), ('I', 'PRP'), ('’', 'VBP'), ('m', 'RB'), ('just', 'RB'), ('a', 'DT'), ('regular', 'JJ'), ('person', 'NN'), ('trying', 'VBG'), ('to', 'TO'), ('understand', 'VB'), ('their', 'PRP$'), ('ideas', 'NNS'), ('.', '.'), ('”', 'NN'), ('That', 'DT'), ('being', 'VBG'), ('said', 'VBD'), (',', ','), ('over', 'IN'), ('two', 'CD'), ('seasons', 'NNS'), ('and', 'CC'), ('62', 'CD'), ('episodes', 'NNS'), ('featuring', 'VBG'), ('interviews', 'NNS'), ('with', 'IN'), ('a', 'DT'), ('fascinating', 'NN'), ('and', 'CC'), ('diverse', 'JJ'), ('group', 'NN'), ('of', 'IN'), ('people', 'NNS'), ('—', 'NNP'), ('including', 'VBG'), ('a', 'DT'), ('sleep', 'NN'), ('researcher', 'NN'), (',', ','), ('a', 'DT'), ('Native', 'JJ'), ('American', 'JJ'), ('chef', 'NN'), (',', ','), ('a', 'DT'), ('data', 'NNS'), ('journalist', 'NN'), ('and', 'CC'), ('an', 'DT'), ('award-winning', 'JJ'), ('Broadway', 'NNP'), ('set', 'NN'), ('designer', 'NN'), ('—', 'VBD'), ('even', 'RB'), ('a', 'DT'), ('lug', 'NN'), ('like', 'IN'), ('me', 'PRP'), ('has', 'VBZ'), ('picked', 'VBN'), ('up', 'RP'), ('some', 'DT'), ('insights', 'NNS'), ('.', '.'), ('Here', 'RB'), ('are', 'VBP'), ('the', 'DT'), ('pieces', 'NNS'), ('of', 'IN'), ('advice', 'NN'), ('that', 'WDT'), ('have', 'VBP'), ('stuck', 'VBN'), ('in', 'IN'), ('my', 'PRP$'), ('brain', 'NN'), ('and', 'CC'), ('that', 'IN'), ('I', 'PRP'), ('’', 'VBP'), ('ve', 'RB'), ('tried', 'VBN'), ('to', 'TO'), ('apply', 'VB'), ('in', 'IN'), ('my', 'PRP$'), ('own', 'JJ'), ('life', 'NN'), (':', ':'), ('George', 'NNP'), ('Blair-West', 'NNP'), ('MD', 'NNP'), ('is', 'VBZ'), ('an', 'DT'), ('Australian', 'JJ'), ('relationship', 'NN'), ('expert', 'NN'), (',', ','), ('researcher', 'NN'), ('and', 'CC'), ('psychiatrist', 'NN'), (',', ','), ('and', 'CC'), ('he', 'PRP'), ('’', 'VBD'), ('s', 'RB'), ('been', 'VBN'), ('married', 'VBN'), ('for', 'IN'), ('34', 'CD'), ('years', 'NNS'), ('.', '.'), ('He', 'PRP'), ('told', 'VBD'), ('me', 'PRP'), ('that', 'IN'), ('the', 'DT'), ('key', 'NN'), ('to', 'TO'), ('a', 'DT'), ('long-lasting', 'JJ'), ('relationship', 'NN'), ('of', 'IN'), ('any', 'DT'), ('kind', 'NN'), ('is', 'VBZ'), ('getting', 'VBG'), ('into', 'IN'), ('a', 'DT'), ('love', 'NN'), ('triangle', 'NN'), ('—', 'NNP'), ('unfortunately', 'RB'), (',', ','), ('not', 'RB'), ('the', 'DT'), ('kind', 'NN'), ('you', 'PRP'), ('see', 'VBP'), ('on', 'IN'), ('a', 'DT'), ('telenovela', 'NN'), ('.', '.'), ('No', 'DT'), (',', ','), ('what', 'WP'), ('George', 'NNP'), ('meant', 'NN'), ('by', 'IN'), ('triangle', 'NN'), ('is', 'VBZ'), ('taking', 'VBG'), ('the', 'DT'), ('same', 'JJ'), ('three', 'CD'), ('steps', 'NNS'), ('over', 'IN'), ('and', 'CC'), ('over', 'IN'), ('in', 'IN'), ('your', 'PRP$'), ('relationship', 'NN'), ('.', '.'), ('Step', 'NN'), ('one', 'CD'), (':', ':'), ('You', 'PRP'), ('have', 'VBP'), ('to', 'TO'), ('trust', 'VB'), ('that', 'DT'), ('when', 'WRB'), ('you', 'PRP'), ('share', 'NN'), ('something', 'NN'), ('vulnerable', 'JJ'), ('with', 'IN'), ('your', 'PRP$'), ('partner', 'NN'), (',', ','), ('they', 'PRP'), ('will', 'MD'), ('respect', 'VB'), ('your', 'PRP$'), ('trust', 'NN'), ('and', 'CC'), ('not', 'RB'), ('use', 'VB'), ('it', 'PRP'), ('against', 'IN'), ('you', 'PRP'), ('.', '.'), ('Step', 'NN'), ('two', 'CD'), (':', ':'), ('You', 'PRP'), ('test', 'VBP'), ('that', 'IN'), ('trust', 'NN'), ('by', 'IN'), ('sharing', 'VBG'), ('something', 'NN'), ('with', 'IN'), ('them', 'PRP'), ('that', 'IN'), ('you', 'PRP'), ('’', 'VBP'), ('re', 'RB'), ('anxious', 'JJ'), ('about', 'IN'), ('people', 'NNS'), ('knowing', 'VBG'), ('about', 'IN'), ('you', 'PRP'), ('.', '.'), ('And', 'CC'), ('step', 'NN'), ('three', 'CD'), (':', ':'), ('You', 'PRP'), ('keep', 'VBP'), ('building', 'VBG'), ('intimacy', 'NN'), ('as', 'IN'), ('you', 'PRP'), ('do', 'VBP'), ('this', 'DT'), ('over', 'NN'), ('and', 'CC'), ('over', 'RB'), ('and', 'CC'), ('realize', 'VB'), ('that', 'IN'), ('your', 'PRP$'), ('partner', 'NN'), ('will', 'MD'), ('still', 'RB'), ('care', 'VB'), ('about', 'IN'), ('you', 'PRP'), (',', ','), ('despite', 'IN'), ('your', 'PRP$'), ('shortcomings', 'NNS'), ('.', '.'), ('OK', 'UH'), (',', ','), ('it', 'PRP'), ('might', 'MD'), ('not', 'RB'), ('seem', 'VB'), ('as', 'RB'), ('spicy', 'NN'), ('as', 'IN'), ('the', 'DT'), ('other', 'JJ'), ('kind', 'NN'), ('of', 'IN'), ('love', 'NN'), ('triangle', 'NN'), ('—', 'NN'), ('but', 'CC'), ('secrets', 'NNS'), (',', ','), ('hidden', 'JJ'), ('weaknesses', 'NNS'), ('and', 'CC'), ('building', 'VBG'), ('a', 'DT'), ('deep', 'JJ'), (',', ','), ('meaningful', 'JJ'), (',', ','), ('passionate', 'VB'), ('love', 'VB'), ('?', '.'), ('It', 'PRP'), ('’', 'VBZ'), ('s', 'NN'), ('still', 'RB'), ('pretty', 'RB'), ('good', 'JJ'), ('!', '.'), ('George', 'NNP'), ('’', 'NNP'), ('s', 'JJ'), ('advice', 'NN'), ('is', 'VBZ'), ('something', 'NN'), ('that', 'IN'), ('I', 'PRP'), ('think', 'VBP'), ('about', 'IN'), ('a', 'DT'), ('lot', 'NN'), ('.', '.'), ('Every', 'DT'), ('time', 'NN'), ('I', 'PRP'), ('’', 'VBP'), ('m', 'RB'), ('afraid', 'VBN'), ('to', 'TO'), ('have', 'VB'), ('a', 'DT'), ('conversation', 'NN'), ('with', 'IN'), ('my', 'PRP$'), ('wife', 'NN'), ('or', 'CC'), ('admit', 'VB'), ('how', 'WRB'), ('I', 'PRP'), ('’', 'VBP'), ('m', 'NNS'), ('really', 'RB'), ('feeling', 'VBG'), ('to', 'TO'), ('her', 'PRP$'), (',', ','), ('I', 'PRP'), ('remember', 'VBP'), ('George', 'NNP'), ('’', 'NNP'), ('s', 'VBD'), ('point', 'NN'), ('that', 'IN'), ('this', 'DT'), ('is', 'VBZ'), ('the', 'DT'), ('whole', 'JJ'), ('thing', 'NN'), ('!', '.'), ('The', 'DT'), ('best', 'JJS'), ('way', 'NN'), ('to', 'TO'), ('make', 'VB'), ('your', 'PRP$'), ('relationship', 'NN'), ('deeper', 'NN'), ('and', 'CC'), ('stronger', 'NN'), ('is', 'VBZ'), ('by', 'IN'), ('letting', 'VBG'), ('yourself', 'PRP'), ('be', 'VB'), ('human', 'JJ'), (',', ','), ('admitting', 'VBG'), ('the', 'DT'), ('things', 'NNS'), ('you', 'PRP'), ('’', 'VBP'), ('re', 'JJ'), ('ashamed', 'NN'), ('of', 'IN'), ('and', 'CC'), ('saying', 'VBG'), ('them', 'PRP'), ('out', 'RP'), ('loud', 'JJ'), ('to', 'TO'), ('your', 'PRP$'), ('partner', 'NN'), ('.', '.'), ('Because', 'IN'), ('when', 'WRB'), ('you', 'PRP'), ('say', 'VBP'), ('them', 'PRP'), ('and', 'CC'), ('the', 'DT'), ('other', 'JJ'), ('person', 'NN'), ('loves', 'NNS'), ('you', 'PRP'), ('anyway', 'RB'), ('?', '.'), ('Ooh', 'NNP'), (',', ','), ('baby', 'NN'), ('!', '.'), ('That', 'DT'), ('’', 'VBZ'), ('s', 'VBZ'), ('the', 'DT'), ('good', 'JJ'), ('stuff', 'NN'), ('.', '.'), ('Go', 'VB'), ('here', 'RB'), ('to', 'TO'), ('listen', 'VB'), ('to', 'TO'), ('the', 'DT'), ('episode', 'NN'), ('Greta', 'NNP'), ('Morgan', 'NNP'), ('is', 'VBZ'), ('a', 'DT'), ('writer', 'NN'), ('and', 'CC'), ('musician', 'NN'), ('whose', 'WP$'), ('musical', 'JJ'), ('projects', 'NNS'), ('include', 'VBP'), ('Vampire', 'NNP'), ('Weekend', 'NNP'), (',', ','), ('Springtime', 'NNP'), ('Carnivore', 'NNP'), ('and', 'CC'), ('Gold', 'NNP'), ('Motel', 'NNP'), ('.', '.'), ('She', 'PRP'), ('’', 'VBD'), ('s', 'RB'), ('toured', 'VBN'), ('the', 'DT'), ('world', 'NN'), ('and', 'CC'), ('played', 'VBN'), ('in', 'IN'), ('front', 'NN'), ('of', 'IN'), ('huge', 'JJ'), ('venues', 'NNS'), ('full', 'JJ'), ('of', 'IN'), ('adoring', 'VBG'), ('fans', 'NNS'), ('.', '.'), ('But', 'CC'), ('then', 'RB'), ('one', 'CD'), ('day', 'NN'), (',', ','), ('she', 'PRP'), ('was', 'VBD'), ('diagnosed', 'VBN'), ('with', 'IN'), ('a', 'DT'), ('vocal', 'JJ'), ('disorder', 'NN'), ('—', 'NNP'), ('one', 'NN'), ('that', 'WDT'), ('took', 'VBD'), ('away', 'RP'), ('her', 'PRP$'), ('ability', 'NN'), ('to', 'TO'), ('sing', 'NN'), ('.', '.'), ('Suddenly', 'RB'), (',', ','), ('her', 'PRP'), ('ideas', 'NNS'), ('about', 'IN'), ('what', 'WP'), ('her', 'PRP$'), ('life', 'NN'), ('and', 'CC'), ('her', 'PRP$'), ('career', 'NN'), ('would', 'MD'), ('look', 'VB'), ('like', 'IN'), ('shifted', 'VBN'), ('dramatically', 'RB'), ('.', '.'), ('So', 'IN'), ('what', 'WP'), ('would', 'MD'), ('you', 'PRP'), ('do', 'VB'), ('if', 'IN'), ('the', 'DT'), ('thing', 'NN'), ('that', 'WDT'), ('defined', 'VBD'), ('you', 'PRP'), ('disappeared', 'VBD'), ('overnight', 'RB'), ('?', '.'), ('So', 'RB'), ('many', 'JJ'), ('of', 'IN'), ('us', 'PRP'), ('have', 'VBP'), ('melded', 'VBN'), ('our', 'PRP$'), ('identities', 'NNS'), ('with', 'IN'), ('our', 'PRP$'), ('work', 'NN'), (',', ','), ('and', 'CC'), ('in', 'IN'), ('the', 'DT'), ('process', 'NN'), (',', ','), ('we', 'PRP'), ('often', 'RB'), ('forget', 'VBP'), ('who', 'WP'), ('we', 'PRP'), ('really', 'RB'), ('are', 'VBP'), ('.', '.'), ('When', 'WRB'), ('I', 'PRP'), ('spoke', 'VBD'), ('to', 'TO'), ('Greta', 'NNP'), (',', ','), ('she', 'PRP'), ('made', 'VBD'), ('such', 'PDT'), ('a', 'DT'), ('compelling', 'JJ'), ('case', 'NN'), ('for', 'IN'), ('how', 'WRB'), ('being', 'VBG'), ('forced', 'VBN'), ('to', 'TO'), ('redefine', 'VB'), ('herself', 'NN'), ('ended', 'VBN'), ('up', 'RP'), ('expanding', 'VBG'), ('her', 'PRP$'), ('understanding', 'NN'), ('of', 'IN'), ('her', 'PRP$'), ('creativity', 'NN'), ('and', 'CC'), ('resilience', 'NN'), ('.', '.'), ('I', 'PRP'), ('’', 'VBP'), ('ve', 'JJ'), ('similarly', 'RB'), ('struggled', 'VBN'), ('with', 'IN'), ('tying', 'VBG'), ('my', 'PRP$'), ('self-worth', 'NN'), ('to', 'TO'), ('my', 'PRP$'), ('output', 'NN'), ('and', 'CC'), ('my', 'PRP$'), ('career', 'NN'), ('.', '.'), ('Greta', 'NNP'), ('offered', 'VBD'), ('me', 'PRP'), ('a', 'DT'), ('reminder', 'NN'), ('that', 'IN'), ('if', 'IN'), ('we', 'PRP'), ('can', 'MD'), ('let', 'VB'), ('go', 'VB'), ('of', 'IN'), ('holding', 'VBG'), ('onto', 'IN'), ('our', 'PRP$'), ('ideas', 'NNS'), ('of', 'IN'), ('who', 'WP'), ('we', 'PRP'), ('are', 'VBP'), ('“', 'JJ'), ('supposed', 'VBN'), ('to', 'TO'), ('be', 'VB'), (',', ','), ('”', 'IN'), ('we', 'PRP'), ('will', 'MD'), ('allow', 'VB'), ('ourselves', 'NNS'), ('to', 'TO'), ('grow', 'VB'), ('and', 'CC'), ('to', 'TO'), ('discover', 'VB'), ('our', 'PRP$'), ('deeper', 'JJR'), (',', ','), ('more', 'RBR'), ('authentic', 'JJ'), ('selves', 'NNS'), ('.', '.'), ('For', 'IN'), ('me', 'PRP'), (',', ','), ('that', 'DT'), ('means', 'VBZ'), ('valuing', 'VBG'), ('creative', 'JJ'), ('work', 'NN'), ('I', 'PRP'), ('make', 'VBP'), ('and', 'CC'), ('enjoy', 'VBP'), ('personally', 'RB'), ('even', 'RB'), ('if', 'IN'), ('it', 'PRP'), ('doesn', 'VBZ'), ('’', 'JJ'), ('t', 'NN'), ('sell', 'NN'), ('or', 'CC'), ('make', 'VB'), ('any', 'DT'), ('money', 'NN'), ('.', '.'), ('And', 'CC'), ('it', 'PRP'), ('means', 'VBZ'), ('me', 'PRP'), ('being', 'VBG'), ('open', 'JJ'), ('to', 'TO'), ('trying', 'VBG'), ('new', 'JJ'), ('things', 'NNS'), (',', ','), ('even', 'RB'), ('if', 'IN'), ('they', 'PRP'), ('don', 'VBP'), ('’', 'JJ'), ('t', 'JJ'), ('necessarily', 'RB'), ('fit', 'JJ'), ('under', 'IN'), ('the', 'DT'), ('umbrella', 'NN'), ('of', 'IN'), ('“', 'JJ'), ('comedy', 'NN'), (',', ','), ('”', 'VBP'), ('like', 'IN'), ('writing', 'VBG'), ('a', 'DT'), ('blog', 'NN'), ('post', 'NN'), ('for', 'IN'), ('TED', 'NNP'), ('about', 'IN'), ('how', 'WRB'), ('to', 'TO'), ('be', 'VB'), ('a', 'DT'), ('better', 'JJR'), ('human', 'NN'), ('.', '.'), ('Go', 'VB'), ('here', 'RB'), ('to', 'TO'), ('listen', 'VB'), ('to', 'TO'), ('the', 'DT'), ('episode', 'NN'), ('I', 'PRP'), ('have', 'VBP'), ('never', 'RB'), ('identified', 'VBN'), ('with', 'IN'), ('a', 'DT'), ('joke', 'NN'), ('more', 'JJR'), ('than', 'IN'), ('when', 'WRB'), ('I', 'PRP'), ('heard', 'VBD'), ('comedian', 'JJ'), ('John', 'NNP'), ('Mulaney', 'NNP'), ('say', 'VBP'), (':', ':'), ('“', 'NN'), ('You', 'PRP'), ('could', 'MD'), ('pour', 'VB'), ('hot', 'JJ'), ('soup', 'NN'), ('on', 'IN'), ('my', 'PRP$'), ('lap', 'NN'), (',', ','), ('and', 'CC'), ('I', 'PRP'), ('’', 'VBP'), ('ll', 'JJ'), ('probably', 'RB'), ('apologize', 'VBP'), ('to', 'TO'), ('you', 'PRP'), ('.', '.'), ('”', 'VB'), ('I', 'PRP'), ('hate', 'VBP'), ('conflict', 'NN'), (',', ','), ('and', 'CC'), ('I', 'PRP'), ('never', 'RB'), ('want', 'VBP'), ('to', 'TO'), ('make', 'VB'), ('a', 'DT'), ('fuss', 'NN'), ('or', 'CC'), ('create', 'VB'), ('an', 'DT'), ('uncomfortable', 'JJ'), ('situation', 'NN'), ('.', '.'), ('But', 'CC'), ('my', 'PRP$'), ('conversation', 'NN'), ('with', 'IN'), ('Luvvie', 'NNP'), ('Ajayi', 'NNP'), ('Jones', 'NNP'), ('convinced', 'VBD'), ('me', 'PRP'), ('this', 'DT'), ('is', 'VBZ'), ('actually', 'RB'), ('not', 'RB'), ('a', 'DT'), ('trait', 'NN'), ('to', 'TO'), ('be', 'VB'), ('proud', 'JJ'), ('of', 'IN'), ('.', '.'), ('Instead', 'RB'), (',', ','), ('standing', 'VBG'), ('up', 'RP'), ('against', 'IN'), ('the', 'DT'), ('tide', 'NN'), ('is', 'VBZ'), ('a', 'DT'), ('muscle', 'NN'), ('I', 'PRP'), ('need', 'VBP'), ('to', 'TO'), ('develop', 'VB'), ('and', 'CC'), ('grow', 'VB'), ('instead', 'RB'), ('.', '.'), ('Luvvie', 'NNP'), ('self-describes', 'JJ'), ('herself', 'NN'), ('as', 'IN'), ('a', 'DT'), ('“', 'JJ'), ('professional', 'JJ'), ('troublemaker.', 'NN'), ('”', 'NNP'), ('She', 'PRP'), ('says', 'VBZ'), ('that', 'IN'), ('if', 'IN'), ('we', 'PRP'), ('really', 'RB'), ('want', 'VBP'), ('to', 'TO'), ('improve', 'VB'), ('the', 'DT'), ('world', 'NN'), ('and', 'CC'), ('tackle', 'VB'), ('the', 'DT'), ('big', 'JJ'), (',', ','), ('important', 'JJ'), ('issues', 'NNS'), (',', ','), ('meekly', 'RB'), ('following', 'VBG'), ('the', 'DT'), ('rules', 'NNS'), ('is', 'VBZ'), ('not', 'RB'), ('going', 'VBG'), ('to', 'TO'), ('cut', 'VB'), ('it', 'PRP'), ('.', '.'), ('Talking', 'VBG'), ('to', 'TO'), ('her', 'PRP$'), ('completely', 'RB'), ('reframed', 'VBD'), ('the', 'DT'), ('idea', 'NN'), ('of', 'IN'), ('“', 'NNP'), ('trouble', 'NN'), ('”', 'NN'), ('for', 'IN'), ('me', 'PRP'), (',', ','), ('prompting', 'VBG'), ('me', 'PRP'), ('to', 'TO'), ('think', 'VB'), ('of', 'IN'), ('it', 'PRP'), ('as', 'IN'), ('a', 'DT'), ('necessary', 'JJ'), ('step', 'NN'), ('on', 'IN'), ('the', 'DT'), ('path', 'NN'), ('to', 'TO'), ('improvement', 'NN'), ('rather', 'RB'), ('than', 'IN'), ('as', 'IN'), ('a', 'DT'), ('sign', 'NN'), ('that', 'IN'), ('I', 'PRP'), ('was', 'VBD'), ('being', 'VBG'), ('difficult', 'JJ'), ('or', 'CC'), ('not', 'RB'), ('a', 'DT'), ('team', 'NN'), ('player', 'NN'), ('.', '.'), ('So', 'RB'), ('now', 'RB'), ('I', 'PRP'), ('’', 'VBP'), ('m', 'RB'), ('trying', 'VBG'), ('to', 'TO'), ('assert', 'VB'), ('myself', 'PRP'), ('whenever', 'WRB'), ('I', 'PRP'), ('feel', 'VBP'), ('a', 'DT'), ('twinge', 'NN'), ('of', 'IN'), ('“', 'NN'), ('That', 'IN'), ('’', 'NNP'), ('s', 'VBD'), ('not', 'RB'), ('right', 'JJ'), ('.', '.'), ('”', 'VB'), ('A', 'DT'), ('friend', 'NN'), ('makes', 'VBZ'), ('a', 'DT'), ('problematic', 'JJ'), ('joke', 'NN'), ('?', '.'), ('Maybe', 'RB'), ('I', 'PRP'), ('can', 'MD'), ('have', 'VB'), ('a', 'DT'), ('conversation', 'NN'), ('with', 'IN'), ('them', 'PRP'), ('about', 'IN'), ('it', 'PRP'), ('and', 'CC'), ('not', 'RB'), ('just', 'RB'), ('laugh', 'RB'), ('awkwardly', 'RB'), ('.', '.'), ('There', 'EX'), ('’', 'VBZ'), ('s', 'JJR'), ('a', 'DT'), ('person', 'NN'), ('on', 'IN'), ('the', 'DT'), ('street', 'NN'), ('who', 'WP'), ('seems', 'VBZ'), ('lost', 'VBN'), ('or', 'CC'), ('confused', 'VBN'), ('?', '.'), ('Maybe', 'RB'), ('I', 'PRP'), ('can', 'MD'), ('check', 'VB'), ('in', 'IN'), ('rather', 'RB'), ('than', 'IN'), ('assuming', 'VBG'), ('that', 'IN'), ('they', 'PRP'), ('’', 'VBP'), ('d', 'JJ'), ('ask', 'NN'), ('if', 'IN'), ('they', 'PRP'), ('needed', 'VBD'), ('help', 'NN'), ('.', '.'), ('(', '('), ('Even', 'RB'), ('typing', 'VBG'), ('this', 'DT'), ('one', 'CD'), ('makes', 'VBZ'), ('me', 'PRP'), ('a', 'DT'), ('little', 'RB'), ('nervous', 'JJ'), ('since', 'IN'), ('I', 'PRP'), ('’', 'VBP'), ('m', 'RB'), ('imagining', 'VBG'), ('an', 'DT'), ('older', 'JJR'), ('man', 'NN'), ('yelling', 'VBG'), ('at', 'IN'), ('me', 'PRP'), ('that', 'IN'), ('he', 'PRP'), ('’', 'VBZ'), ('s', 'PRP'), ('not', 'RB'), ('confused', 'VBD'), ('or', 'CC'), ('lost', 'VBN'), ('and', 'CC'), ('how', 'WRB'), ('dare', 'JJ'), ('I', 'PRP'), ('insinuate', 'VBP'), ('he', 'PRP'), ('was', 'VBD'), ('!', '.'), (')', ')'), ('But', 'CC'), ('I', 'PRP'), ('want', 'VBP'), ('to', 'TO'), ('tackle', 'VB'), ('these', 'DT'), ('small', 'JJ'), ('scale', 'NN'), (',', ','), ('lower-stakes', 'JJ'), ('moments', 'NNS'), ('so', 'IN'), ('I', 'PRP'), ('can', 'MD'), ('get', 'VB'), ('more', 'RBR'), ('comfortable', 'JJ'), ('with', 'IN'), ('being', 'VBG'), ('uncomfortable', 'JJ'), ('.', '.'), ('That', 'DT'), ('way', 'NN'), (',', ','), ('when', 'WRB'), ('the', 'DT'), ('big', 'JJ'), ('stuff', 'NN'), ('happens', 'VBZ'), (',', ','), ('I', 'PRP'), ('’', 'VBP'), ('ll', 'RB'), ('have', 'VBP'), ('the', 'DT'), ('troublemaking', 'NN'), ('muscles', 'NNS'), ('to', 'TO'), ('do', 'VB'), ('what', 'WP'), ('needs', 'VBZ'), ('to', 'TO'), ('be', 'VB'), ('done', 'VBN'), ('.', '.'), ('I', 'PRP'), ('certainly', 'RB'), ('wouldn', 'VBP'), ('’', 'JJ'), ('t', 'NNS'), ('say', 'VBP'), ('I', 'PRP'), ('’', 'VBP'), ('m', 'VB'), ('a', 'DT'), ('professional', 'JJ'), ('troublemaker', 'NN'), ('yet', 'RB'), (',', ','), ('but', 'CC'), ('maybe', 'RB'), ('I', 'PRP'), ('’', 'VBP'), ('m', 'PDT'), ('an', 'DT'), ('aspiring', 'JJ'), ('amateur', 'NN'), ('.', '.'), ('Go', 'VB'), ('here', 'RB'), ('to', 'TO'), ('listen', 'VB'), ('to', 'TO'), ('the', 'DT'), ('episode', 'NN'), ('Frans', 'NNS'), ('Johansson', 'NNP'), ('has', 'VBZ'), ('spent', 'VBN'), ('his', 'PRP$'), ('career', 'NN'), ('studying', 'VBG'), ('innovation', 'NN'), ('and', 'CC'), ('what', 'WP'), ('makes', 'VBZ'), ('some', 'DT'), ('ideas', 'NNS'), ('truly', 'RB'), ('groundbreaking', 'VBG'), ('.', '.'), ('One', 'CD'), ('of', 'IN'), ('the', 'DT'), ('things', 'NNS'), ('that', 'IN'), ('he', 'PRP'), ('’', 'VBZ'), ('s', 'NN'), ('discovered', 'VBN'), ('is', 'VBZ'), ('it', 'PRP'), ('’', 'JJ'), ('s', 'JJ'), ('easy', 'JJ'), ('to', 'TO'), ('find', 'VB'), ('support', 'NN'), ('for', 'IN'), ('your', 'PRP$'), ('ideas', 'NNS'), ('if', 'IN'), ('you', 'PRP'), ('’', 'VBP'), ('re', 'VBG'), ('only', 'RB'), ('making', 'VBG'), ('incremental', 'JJ'), ('changes', 'NNS'), ('.', '.'), ('Let', 'VB'), ('’', 'JJ'), ('s', 'NNS'), ('say', 'VBP'), ('it', 'PRP'), ('’', 'VBZ'), ('s', 'JJ'), ('1970', 'CD'), (',', ','), ('and', 'CC'), ('you', 'PRP'), ('’', 'VBP'), ('re', 'JJ'), ('working', 'VBG'), ('on', 'IN'), ('making', 'VBG'), ('home', 'NN'), ('telephones', 'NNS'), ('10', 'CD'), ('percent', 'NN'), ('more', 'RBR'), ('efficient', 'JJ'), ('.', '.'), ('Everyone', 'NN'), ('at', 'IN'), ('the', 'DT'), ('phone', 'NN'), ('company', 'NN'), ('would', 'MD'), ('have', 'VB'), ('been', 'VBN'), ('likely', 'RB'), ('to', 'TO'), ('get', 'VB'), ('on', 'IN'), ('board', 'NN'), ('.', '.'), ('But', 'CC'), ('if', 'IN'), ('you', 'PRP'), ('told', 'VBD'), ('them', 'PRP'), ('you', 'PRP'), ('were', 'VBD'), ('working', 'VBG'), ('on', 'IN'), ('an', 'DT'), ('idea', 'NN'), ('to', 'TO'), ('make', 'VB'), ('phones', 'NNS'), ('that', 'WDT'), ('could', 'MD'), ('work', 'VB'), ('outdoors', 'NNS'), ('and', 'CC'), ('without', 'IN'), ('any', 'DT'), ('wires', 'NNS'), (',', ','), ('you', 'PRP'), ('’', 'VBP'), ('d', 'VB'), ('likely', 'RB'), ('be', 'VB'), ('out', 'RP'), ('in', 'IN'), ('the', 'DT'), ('cold', 'NN'), ('.', '.'), ('And', 'CC'), ('yet', 'RB'), (',', ','), ('looking', 'VBG'), ('back', 'RB'), (',', ','), ('we', 'PRP'), ('can', 'MD'), ('see', 'VB'), ('clearly', 'RB'), ('which', 'WDT'), ('idea', 'NN'), ('was', 'VBD'), ('more', 'RBR'), ('valuable', 'JJ'), ('.', '.'), ('I', 'PRP'), ('’', 'VBP'), ('ve', 'RB'), ('been', 'VBN'), ('trying', 'VBG'), ('to', 'TO'), ('embrace', 'VB'), ('that', 'IN'), ('idea', 'NN'), ('more', 'RBR'), ('in', 'IN'), ('my', 'PRP$'), ('own', 'JJ'), ('life', 'NN'), ('—', 'NN'), ('to', 'TO'), ('take', 'VB'), ('bigger', 'JJR'), ('swings', 'NNS'), ('.', '.'), ('Frans', 'NNPS'), ('says', 'VBZ'), ('if', 'IN'), ('you', 'PRP'), ('want', 'VBP'), ('to', 'TO'), ('come', 'VB'), ('up', 'RP'), ('with', 'IN'), ('novel', 'JJ'), ('solutions', 'NNS'), (',', ','), ('you', 'PRP'), ('have', 'VBP'), ('to', 'TO'), ('discard', 'VB'), ('the', 'DT'), ('first', 'JJ'), ('few', 'JJ'), ('things', 'NNS'), ('that', 'WDT'), ('come', 'VBP'), ('to', 'TO'), ('mind', 'VB'), (',', ','), ('the', 'DT'), ('obvious', 'JJ'), ('answers', 'NNS'), ('.', '.'), ('Try', 'VB'), ('something', 'NN'), ('bizarre', 'JJ'), ('!', '.'), ('It', 'PRP'), ('might', 'MD'), ('not', 'RB'), ('work', 'VB'), (',', ','), ('but', 'CC'), ('as', 'IN'), ('Frans', 'NNP'), ('says', 'VBZ'), (',', ','), ('“', 'VBZ'), ('The', 'DT'), ('single', 'JJ'), ('most', 'RBS'), ('important', 'JJ'), ('factor', 'NN'), ('is', 'VBZ'), ('that', 'IN'), ('you', 'PRP'), ('are', 'VBP'), ('interrupting', 'VBG'), ('your', 'PRP$'), ('default', 'NN'), ('thought.', 'NN'), ('”', 'NNP'), ('Plus', 'NNP'), (',', ','), ('when', 'WRB'), ('I', 'PRP'), ('set', 'VBP'), ('my', 'PRP$'), ('goal', 'NN'), ('as', 'IN'), ('simply', 'RB'), ('“', 'VBZ'), ('come', 'VB'), ('up', 'RP'), ('with', 'IN'), ('some', 'DT'), ('terrible', 'JJ'), ('ideas', 'NNS'), ('”', 'VBP'), ('I', 'PRP'), ('immediately', 'RB'), ('feel', 'VBP'), ('better', 'RB'), (',', ','), ('because', 'IN'), ('I', 'PRP'), ('am', 'VBP'), ('so', 'RB'), ('good', 'JJ'), ('at', 'IN'), ('having', 'VBG'), ('bad', 'JJ'), ('ideas', 'NNS'), ('.', '.'), ('In', 'IN'), ('fact', 'NN'), (',', ','), ('I', 'PRP'), ('’', 'VBP'), ('ve', 'RB'), ('decided', 'VBD'), ('it', 'PRP'), ('’', 'NNP'), ('s', 'VB'), ('my', 'PRP$'), ('specialty', 'NN'), ('.', '.'), ('Go', 'VB'), ('here', 'RB'), ('to', 'TO'), ('listen', 'VB'), ('to', 'TO'), ('the', 'DT'), ('episode', 'NN'), ('I', 'PRP'), ('talk', 'VBP'), ('for', 'IN'), ('a', 'DT'), ('living', 'NN'), (',', ','), ('whether', 'IN'), ('it', 'PRP'), ('’', 'NNP'), ('s', 'VBD'), ('hosting', 'VBG'), ('this', 'DT'), ('podcast', 'NN'), (',', ','), ('doing', 'VBG'), ('standup', 'NN'), ('or', 'CC'), ('pitching', 'NN'), ('jokes', 'NNS'), ('for', 'IN'), ('a', 'DT'), ('TV', 'NN'), ('show', 'NN'), ('.', '.'), ('But', 'CC'), ('still', 'RB'), (',', ','), ('one', 'CD'), ('of', 'IN'), ('the', 'DT'), ('times', 'NNS'), ('I', 'PRP'), ('’', 'VBP'), ('ve', 'RB'), ('been', 'VBN'), ('most', 'JJS'), ('terrified', 'VBN'), ('when', 'WRB'), ('doing', 'VBG'), ('this', 'DT'), ('podcast', 'NN'), ('was', 'VBD'), ('when', 'WRB'), ('I', 'PRP'), ('was', 'VBD'), ('interviewing', 'VBG'), ('Celeste', 'NNP'), ('Headlee', 'NNP'), ('.', '.'), ('She', 'PRP'), ('’', 'VBD'), ('s', 'PRP'), ('an', 'DT'), ('award-winning', 'JJ'), ('journalist', 'NN'), ('who', 'WP'), ('has', 'VBZ'), ('done', 'VBN'), ('everything', 'NN'), ('from', 'IN'), ('anchor', 'JJ'), ('morning', 'NN'), ('news', 'NN'), ('on', 'IN'), ('public', 'JJ'), ('radio', 'NN'), ('to', 'TO'), ('covering', 'VBG'), ('presidential', 'JJ'), ('campaigns', 'NNS'), ('.', '.'), ('She', 'PRP'), ('’', 'VBD'), ('s', 'PRP'), ('an', 'DT'), ('expert', 'NN'), ('on', 'IN'), ('great', 'JJ'), ('conversations', 'NNS'), ('.', '.'), ('So', 'IN'), ('the', 'DT'), ('pressure', 'NN'), ('was', 'VBD'), ('high', 'JJ'), ('to', 'TO'), ('have', 'VB'), ('our', 'PRP$'), ('conversation', 'NN'), ('be…', 'IN'), ('not', 'RB'), ('terrible', 'JJ'), (',', ','), ('you', 'PRP'), ('know', 'VBP'), ('?', '.'), ('Luckily', 'RB'), (',', ','), ('Celeste', 'NNP'), ('made', 'VBD'), ('my', 'PRP$'), ('job', 'NN'), ('easy', 'JJ'), ('and', 'CC'), ('offered', 'VBD'), ('plenty', 'NN'), ('of', 'IN'), ('practical', 'JJ'), ('tips', 'NNS'), ('including', 'VBG'), ('how', 'WRB'), ('to', 'TO'), ('pick', 'VB'), ('one', 'CD'), ('conversational', 'NN'), ('skill', 'NN'), ('to', 'TO'), ('work', 'VB'), ('on', 'IN'), ('at', 'IN'), ('a', 'DT'), ('time', 'NN'), ('.', '.'), ('This', 'DT'), ('small', 'JJ'), ('step', 'NN'), ('can', 'MD'), ('dramatically', 'RB'), ('improve', 'VB'), ('your', 'PRP$'), ('relationships', 'NNS'), ('and', 'CC'), ('your', 'PRP$'), ('outcomes', 'NNS'), ('at', 'IN'), ('work', 'NN'), ('.', '.'), ('For', 'IN'), ('me', 'PRP'), (',', ','), ('I', 'PRP'), ('’', 'VBP'), ('m', 'JJ'), ('working', 'VBG'), ('on', 'IN'), ('shutting', 'VBG'), ('up', 'RP'), ('more', 'RBR'), ('and', 'CC'), (',', ','), ('as', 'IN'), ('Celeste', 'NNP'), ('puts', 'VBZ'), ('it', 'PRP'), (',', ','), ('“', 'VBZ'), ('not', 'RB'), ('equating', 'VBG'), ('talking', 'VBG'), ('with', 'IN'), ('conversing.', 'NN'), ('”', 'NN'), ('Because', 'IN'), ('if', 'IN'), ('you', 'PRP'), ('want', 'VBP'), ('to', 'TO'), ('have', 'VB'), ('a', 'DT'), ('great', 'JJ'), ('conversation', 'NN'), (',', ','), ('it', 'PRP'), ('’', 'VBD'), ('s', 'PRP'), ('not', 'RB'), ('about', 'IN'), ('following', 'VBG'), ('any', 'DT'), ('tips', 'NNS'), ('and', 'CC'), ('tricks', 'NNS'), ('for', 'IN'), ('“', 'JJ'), ('seeming', 'VBG'), ('engaged', 'VBN'), ('”', 'NN'), ('in', 'IN'), ('the', 'DT'), ('conversation', 'NN'), ('–', 'NN'), ('you', 'PRP'), ('have', 'VBP'), ('to', 'TO'), ('actually', 'RB'), ('be', 'VB'), ('engaged', 'VBN'), ('.', '.'), ('So', 'CC'), ('I', 'PRP'), ('will', 'MD'), ('now', 'RB'), ('shut', 'VB'), ('up', 'RP'), ('.', '.'), ('Go', 'VB'), ('here', 'RB'), ('to', 'TO'), ('listen', 'VB'), ('to', 'TO'), ('the', 'DT'), ('episode', 'NN'), ('Michael', 'NNP'), ('Schur', 'NNP'), ('is', 'VBZ'), ('the', 'DT'), ('comedy', 'NN'), ('writer', 'NN'), ('behind', 'IN'), ('so', 'RB'), ('many', 'JJ'), ('of', 'IN'), ('my', 'PRP$'), ('favorite', 'JJ'), ('TV', 'NN'), ('shows', 'NNS'), (',', ','), ('like', 'IN'), ('Saturday', 'NNP'), ('Night', 'NNP'), ('Live', 'NNP'), (',', ','), ('The', 'DT'), ('Office', 'NNP'), (',', ','), ('Parks', 'NNP'), ('and', 'CC'), ('Recreation', 'NNP'), (',', ','), ('The', 'DT'), ('Good', 'JJ'), ('Place', 'NN'), ('.', '.'), ('(', '('), ('And', 'CC'), (',', ','), ('very', 'RB'), ('occasionally', 'RB'), ('in', 'IN'), ('front', 'NN'), ('of', 'IN'), ('the', 'DT'), ('scenes', 'NNS'), (',', ','), ('like', 'IN'), ('when', 'WRB'), ('he', 'PRP'), ('played', 'VBD'), ('Dwight', 'NNP'), ('’', 'NNP'), ('s', 'VBD'), ('terrifying', 'VBG'), ('cousin', 'NN'), ('Mose', 'NNP'), ('in', 'IN'), ('The', 'DT'), ('Office', 'NNP'), (')', ')'), ('.', '.'), ('But', 'CC'), ('Michael', 'NNP'), ('’', 'NNP'), ('s', 'VBD'), ('true', 'JJ'), ('passion', 'NN'), ('isn', 'NN'), ('’', 'NNP'), ('t', 'NN'), ('jokes', 'NNS'), (';', ':'), ('it', 'PRP'), ('’', 'VBZ'), ('s', 'JJ'), ('moral', 'JJ'), ('philosophy', 'NN'), ('.', '.'), ('In', 'IN'), ('our', 'PRP$'), ('episode', 'NN'), (',', ','), ('Michael', 'NNP'), ('talked', 'VBD'), ('to', 'TO'), ('me', 'PRP'), ('about', 'IN'), ('why', 'WRB'), ('he', 'PRP'), ('’', 'VBZ'), ('s', 'NNS'), ('obsessed', 'VBN'), ('with', 'IN'), ('chasing', 'NN'), ('after', 'IN'), ('the', 'DT'), ('eternal', 'JJ'), (',', ','), ('perhaps', 'RB'), ('unanswerable', 'JJ'), ('question', 'NN'), ('of', 'IN'), ('“', 'NNP'), ('how', 'WRB'), ('to', 'TO'), ('be', 'VB'), ('perfect', 'JJ'), ('”', 'NNP'), ('and', 'CC'), ('why', 'WRB'), ('he', 'PRP'), ('believes', 'VBZ'), ('caring', 'VBG'), ('about', 'IN'), ('ethics', 'NNS'), ('—', 'VBP'), ('on', 'IN'), ('any', 'DT'), ('level', 'JJ'), ('—', 'NN'), ('can', 'MD'), ('actually', 'RB'), ('make', 'VB'), ('a', 'DT'), ('difference', 'NN'), ('.', '.'), ('Whether', 'IN'), ('it', 'PRP'), ('’', 'NNP'), ('s', 'VBD'), ('deciding', 'VBG'), ('which', 'WDT'), ('brand', 'NN'), ('of', 'IN'), ('environmentally', 'RB'), ('friendly', 'JJ'), ('toilet', 'JJ'), ('paper', 'NN'), ('I', 'PRP'), ('should', 'MD'), ('buy', 'VB'), ('(', '('), ('or', 'CC'), ('should', 'MD'), ('I', 'PRP'), ('actually', 'RB'), ('just', 'RB'), ('switch', 'VB'), ('over', 'RP'), ('to', 'TO'), ('an', 'DT'), ('electronic', 'JJ'), ('bidet', 'NN'), (')', ')'), (',', ','), ('agonizing', 'VBG'), ('over', 'IN'), ('if', 'IN'), ('it', 'PRP'), ('’', 'VBZ'), ('s', 'JJ'), ('OK', 'NNP'), ('to', 'TO'), ('listen', 'VB'), ('to', 'TO'), ('music', 'NN'), ('made', 'VBN'), ('by', 'IN'), ('a', 'DT'), ('terrible', 'JJ'), ('person', 'NN'), (',', ','), ('or', 'CC'), ('deciding', 'VBG'), ('if', 'IN'), ('it', 'PRP'), ('’', 'VBZ'), ('s', 'JJ'), ('OK', 'NNP'), ('to', 'TO'), ('lie', 'VB'), ('in', 'IN'), ('a', 'DT'), ('list', 'NN'), ('of', 'IN'), ('ways', 'NNS'), ('to', 'TO'), ('become', 'VB'), ('a', 'DT'), ('better', 'JJR'), ('person', 'NN'), (',', ','), ('I', 'PRP'), ('’', 'VBP'), ('m', 'RB'), ('comforted', 'VBN'), ('by', 'IN'), ('Michael', 'NNP'), ('’', 'NNP'), ('s', 'VBD'), ('reminder', 'VB'), ('that', 'IN'), ('people', 'NNS'), ('have', 'VBP'), ('been', 'VBN'), ('struggling', 'VBG'), ('over', 'IN'), ('these', 'DT'), ('questions', 'NNS'), ('for', 'IN'), ('thousands', 'NNS'), ('of', 'IN'), ('years', 'NNS'), ('.', '.'), ('(', '('), ('Maybe', 'RB'), ('not', 'RB'), ('these', 'DT'), ('exact', 'JJ'), ('questions', 'NNS'), (',', ','), ('I', 'PRP'), ('don', 'VBP'), ('’', 'JJ'), ('t', 'NN'), ('think', 'VBP'), ('electronic', 'JJ'), ('bidets', 'NNS'), ('existed', 'VBD'), ('until', 'IN'), ('recently', 'RB'), ('.', '.'), (')', ')'), ('He', 'PRP'), ('argues', 'VBZ'), ('that', 'IN'), ('the', 'DT'), ('right', 'JJ'), ('thing', 'NN'), ('to', 'TO'), ('do', 'VB'), ('is', 'VBZ'), ('engage', 'VB'), ('with', 'IN'), ('the', 'DT'), ('questions', 'NNS'), ('rather', 'RB'), ('than', 'IN'), ('ignore', 'VB'), ('them', 'PRP'), ('and', 'CC'), ('try', 'VB'), ('to', 'TO'), ('find', 'VB'), ('a', 'DT'), ('moral', 'JJ'), ('framework', 'NN'), ('that', 'IN'), ('we', 'PRP'), ('can', 'MD'), ('stand', 'VB'), ('by', 'IN'), ('and', 'CC'), ('stick', 'VB'), ('to', 'TO'), ('.', '.'), ('I', 'PRP'), ('’', 'VBP'), ('m', 'RB'), ('not', 'RB'), ('there', 'RB'), ('yet', 'RB'), (',', ','), ('but', 'CC'), ('I', 'PRP'), ('’', 'VBP'), ('m', 'JJ'), ('thinking', 'VBG'), ('more', 'RBR'), ('deeply', 'RB'), ('about', 'IN'), ('the', 'DT'), ('ethical', 'JJ'), ('quandaries', 'NNS'), ('inevitably', 'RB'), ('posed', 'VBN'), ('by', 'IN'), ('every', 'DT'), ('decision', 'NN'), ('I', 'PRP'), ('make', 'VBP'), ('(', '('), ('and', 'CC'), ('I', 'PRP'), ('decided', 'VBD'), ('I', 'PRP'), ('’', 'VBP'), ('m', 'RB'), ('just', 'RB'), ('not', 'RB'), ('ready', 'JJ'), ('for', 'IN'), ('a', 'DT'), ('bidet', 'NN'), ('quite', 'RB'), ('yet', 'RB'), ('.', '.'), ('Maybe', 'RB'), ('next', 'JJ'), ('year', 'NN'), ('…', 'NN'), (')', ')'), ('Go', 'VB'), ('here', 'RB'), ('to', 'TO'), ('listen', 'VB'), ('to', 'TO'), ('the', 'DT'), ('episode', 'NN'), ('Enjoyed', 'VBN'), ('this', 'DT'), ('article', 'NN'), ('?', '.'), ('The', 'DT'), ('advice', 'NN'), ('doesn', 'NN'), ('’', 'NNP'), ('t', 'JJ'), ('end', 'NN'), ('here', 'RB'), ('—', 'VBZ'), ('we', 'PRP'), ('’', 'VBP'), ('re', 'JJ'), ('just', 'RB'), ('getting', 'VBG'), ('started', 'VBN'), ('with', 'IN'), ('new', 'JJ'), ('weekly', 'JJ'), ('episodes', 'NNS'), ('of', 'IN'), ('How', 'NNP'), ('to', 'TO'), ('Be', 'VB'), ('a', 'DT'), ('Better', 'JJR'), ('Human', 'NNP'), ('throughout', 'IN'), ('the', 'DT'), ('year', 'NN'), ('.', '.'), ('Give', 'VB'), ('it', 'PRP'), ('a', 'DT'), ('listen', 'JJ'), ('to', 'TO'), ('receive', 'VB'), ('more', 'RBR'), ('delicious', 'JJ'), (',', ','), ('useful', 'JJ'), ('bites', 'NNS'), ('of', 'IN'), ('insight', 'NN'), ('that', 'WDT'), ('can', 'MD'), ('help', 'VB'), ('you', 'PRP'), ('in', 'IN'), ('all', 'DT'), ('parts', 'NNS'), ('of', 'IN'), ('your', 'PRP$'), ('life', 'NN'), ('here', 'RB'), ('.', '.'), ('Watch', 'VB'), ('this', 'DT'), ('special', 'JJ'), ('TED', 'NNP'), ('Membership', 'NNP'), ('conversation', 'NN'), ('with', 'IN'), ('Luvvie', 'NNP'), ('Ajayi', 'NNP'), ('Jones', 'NNP'), ('now', 'RB'), (':', ':'), ('Chris', 'NNP'), ('Duffy', 'NNP'), ('is', 'VBZ'), ('a', 'DT'), ('comedian', 'JJ'), (',', ','), ('TV', 'NN'), ('writer', 'NN'), ('and', 'CC'), ('radio/podcast', 'NN'), ('host', 'NN'), ('.', '.'), ('He', 'PRP'), ('has', 'VBZ'), ('written', 'VBN'), ('for', 'IN'), ('National', 'NNP'), ('Geographic', 'NNP'), ('Explorer', 'NNP'), ('and', 'CC'), ('for', 'IN'), ('both', 'DT'), ('seasons', 'NNS'), ('of', 'IN'), ('Wyatt', 'NNP'), ('Cenac', 'NNP'), (\"'s\", 'POS'), ('Problem', 'NNP'), ('Areas', 'NNP'), ('on', 'IN'), ('HBO', 'NNP'), ('(', '('), ('executive', 'NN'), ('produced', 'VBN'), ('by', 'IN'), ('John', 'NNP'), ('Oliver', 'NNP'), (')', ')'), ('.', '.'), ('Duffy', 'NNP'), ('created', 'VBD'), ('the', 'DT'), ('public', 'JJ'), ('radio', 'NN'), ('program', 'NN'), ('``', '``'), ('You', 'PRP'), (\"'re\", 'VBP'), ('the', 'DT'), ('Expert', 'NNP'), (\"''\", \"''\"), ('and', 'CC'), ('currently', 'RB'), ('hosts', 'VBZ'), ('the', 'DT'), ('streaming', 'NN'), ('show', 'NN'), ('``', '``'), ('Wrong', 'JJ'), ('Answers', 'NNPS'), ('Only', 'RB'), (\"''\", \"''\"), ('for', 'IN'), ('the', 'DT'), ('National', 'NNP'), ('Academy', 'NNP'), ('of', 'IN'), ('Sciences', 'NNPS'), ('.', '.'), ('He', 'PRP'), ('is', 'VBZ'), ('both', 'CC'), ('a', 'DT'), ('former', 'JJ'), ('fifth-grade', 'NN'), ('teacher', 'NN'), ('and', 'CC'), ('a', 'DT'), ('former', 'JJ'), ('fifth-grade', 'JJ'), ('student', 'NN'), ('.', '.')]\n"
          ]
        }
      ]
    },
    {
      "cell_type": "markdown",
      "source": [
        "As the tuples are organized we may now unpack them to create a dictionary consisting of keys and values.\n",
        "\n",
        "The code counts the occurrences of different part-of-speech tags in the list.\n",
        "\n",
        ">\n",
        "\n"
      ],
      "metadata": {
        "id": "1zxx3hpC308n"
      }
    },
    {
      "cell_type": "code",
      "source": [
        "counter_dict = {}\n",
        "for el in tuples:\n",
        "  tag = el[1]\n",
        "  if tag not in counter_dict:\n",
        "    counter_dict[tag] = 1\n",
        "  else:\n",
        "    counter_dict[tag] += 1\n",
        "\n",
        "print(counter_dict)"
      ],
      "metadata": {
        "colab": {
          "base_uri": "https://localhost:8080/"
        },
        "id": "4Cuct7lJ1mbc",
        "outputId": "a16d55da-a697-42d4-cd3e-51cf99e24502"
      },
      "execution_count": 18,
      "outputs": [
        {
          "output_type": "stream",
          "name": "stdout",
          "text": [
            "{'RB': 138, 'VB': 122, 'PRP': 172, 'VBD': 49, 'JJ': 146, 'NNS': 90, 'IN': 214, 'MD': 26, 'NN': 264, 'PDT': 3, 'DT': 159, 'PRP$': 48, ',': 87, '.': 87, 'NNP': 101, 'VBZ': 58, 'WRB': 22, 'TO': 77, 'CC': 77, '(': 7, 'RP': 12, 'JJR': 13, ')': 7, 'VBN': 41, 'RBS': 3, 'VBP': 86, 'CD': 15, 'VBG': 70, ':': 9, 'WP': 12, \"''\": 3, 'FW': 1, 'WDT': 8, 'UH': 1, 'JJS': 2, 'WP$': 1, 'RBR': 8, 'EX': 1, 'NNPS': 3, 'POS': 1, '``': 2}\n"
          ]
        }
      ]
    },
    {
      "cell_type": "markdown",
      "source": [
        "As I want to find the most common part of speech I have created a code to sort the result in descending order."
      ],
      "metadata": {
        "id": "H6rVWHhU8kvM"
      }
    },
    {
      "cell_type": "code",
      "source": [
        "sorted_counter_dict = dict(sorted(counter_dict.items(), key=lambda item: item[1], reverse=True))\n",
        "\n",
        "print(sorted_counter_dict)"
      ],
      "metadata": {
        "colab": {
          "base_uri": "https://localhost:8080/"
        },
        "id": "ArNCype28gGD",
        "outputId": "ed8184a0-30f6-463b-8fc8-9b0b58bf15f7"
      },
      "execution_count": 19,
      "outputs": [
        {
          "output_type": "stream",
          "name": "stdout",
          "text": [
            "{'NN': 264, 'IN': 214, 'PRP': 172, 'DT': 159, 'JJ': 146, 'RB': 138, 'VB': 122, 'NNP': 101, 'NNS': 90, ',': 87, '.': 87, 'VBP': 86, 'TO': 77, 'CC': 77, 'VBG': 70, 'VBZ': 58, 'VBD': 49, 'PRP$': 48, 'VBN': 41, 'MD': 26, 'WRB': 22, 'CD': 15, 'JJR': 13, 'RP': 12, 'WP': 12, ':': 9, 'WDT': 8, 'RBR': 8, '(': 7, ')': 7, 'PDT': 3, 'RBS': 3, \"''\": 3, 'NNPS': 3, 'JJS': 2, '``': 2, 'FW': 1, 'UH': 1, 'WP$': 1, 'EX': 1, 'POS': 1}\n"
          ]
        }
      ]
    },
    {
      "cell_type": "markdown",
      "source": [
        "The code below iterates over the sorted_counter_dict dictionary, appending the keys to the keys list and their corresponding values to the values list.\n",
        "\n",
        "It is a preparatory step for creating the bar chart which is possible because of the *matplotlib.pyplot* package."
      ],
      "metadata": {
        "id": "E6g511x_7W2U"
      }
    },
    {
      "cell_type": "code",
      "source": [
        "keys = []\n",
        "values = []\n",
        "for el in sorted_counter_dict:\n",
        "    keys.append(el)\n",
        "    values.append(sorted_counter_dict[el])\n",
        "\n",
        "print (keys)\n",
        "print(values)\n",
        "\n",
        "import matplotlib.pyplot as plt\n",
        "\n",
        "plt.bar(keys [0:8],values[0:8], color = 'hotpink')"
      ],
      "metadata": {
        "colab": {
          "base_uri": "https://localhost:8080/",
          "height": 501
        },
        "id": "0hTYP7Z564uU",
        "outputId": "74765615-6a5e-4509-bbc2-e244511826d7"
      },
      "execution_count": 20,
      "outputs": [
        {
          "output_type": "stream",
          "name": "stdout",
          "text": [
            "['NN', 'IN', 'PRP', 'DT', 'JJ', 'RB', 'VB', 'NNP', 'NNS', ',', '.', 'VBP', 'TO', 'CC', 'VBG', 'VBZ', 'VBD', 'PRP$', 'VBN', 'MD', 'WRB', 'CD', 'JJR', 'RP', 'WP', ':', 'WDT', 'RBR', '(', ')', 'PDT', 'RBS', \"''\", 'NNPS', 'JJS', '``', 'FW', 'UH', 'WP$', 'EX', 'POS']\n",
            "[264, 214, 172, 159, 146, 138, 122, 101, 90, 87, 87, 86, 77, 77, 70, 58, 49, 48, 41, 26, 22, 15, 13, 12, 12, 9, 8, 8, 7, 7, 3, 3, 3, 3, 2, 2, 1, 1, 1, 1, 1]\n"
          ]
        },
        {
          "output_type": "execute_result",
          "data": {
            "text/plain": [
              "<BarContainer object of 8 artists>"
            ]
          },
          "metadata": {},
          "execution_count": 20
        },
        {
          "output_type": "display_data",
          "data": {
            "text/plain": [
              "<Figure size 640x480 with 1 Axes>"
            ],
            "image/png": "[encoded data removed]"
          },
          "metadata": {}
        }
      ]
    },
    {
      "cell_type": "markdown",
      "source": [
        "Additionally I would like to create a pie chart to represent the percentage of the most common parts of speech.\n",
        "\n",
        "To do this I need to find a sum of all the numbers in the list and then divide each one by that sum."
      ],
      "metadata": {
        "id": "EeNRDIsVBqIE"
      }
    },
    {
      "cell_type": "code",
      "source": [
        "numbers = [264, 214, 172, 159, 146, 138, 122, 101]\n",
        "total_sum = sum(numbers)\n",
        "print(f\"The sum of the numbers is:\", total_sum)\n",
        "\n"
      ],
      "metadata": {
        "colab": {
          "base_uri": "https://localhost:8080/"
        },
        "id": "O0S2syMQ_0O-",
        "outputId": "da68c4f5-28c5-4598-b01c-dc3a338c7f1f"
      },
      "execution_count": 25,
      "outputs": [
        {
          "output_type": "stream",
          "name": "stdout",
          "text": [
            "The sum of the numbers is: 1316\n"
          ]
        }
      ]
    },
    {
      "cell_type": "code",
      "source": [
        "for number in numbers:\n",
        "    divided_number = number / 1316\n",
        "    print(f\"{number} divided by 1316 is: {divided_number}\")"
      ],
      "metadata": {
        "colab": {
          "base_uri": "https://localhost:8080/"
        },
        "id": "6E2X5EkdBc_I",
        "outputId": "9246767c-abc9-4846-cf2c-32db2fad2a85"
      },
      "execution_count": 27,
      "outputs": [
        {
          "output_type": "stream",
          "name": "stdout",
          "text": [
            "264 divided by 1316 is: 0.2006079027355623\n",
            "214 divided by 1316 is: 0.16261398176291794\n",
            "172 divided by 1316 is: 0.13069908814589665\n",
            "159 divided by 1316 is: 0.12082066869300911\n",
            "146 divided by 1316 is: 0.11094224924012158\n",
            "138 divided by 1316 is: 0.10486322188449848\n",
            "122 divided by 1316 is: 0.09270516717325228\n",
            "101 divided by 1316 is: 0.07674772036474165\n"
          ]
        }
      ]
    },
    {
      "cell_type": "markdown",
      "source": [
        "Now, I may imply the percentage into a code which creates a pie chart- for that we will need to import a *numpy* package."
      ],
      "metadata": {
        "id": "_Wqr0v8uE-hy"
      }
    },
    {
      "cell_type": "code",
      "source": [
        "import numpy as np\n",
        "\n",
        "chart = np.array([20, 16, 13, 12, 11, 10, 9, 7])\n",
        "my_labels = [\"NN\", \"IN\", \"PRP\", \"DT\", \"JJ\", \"RB\", \"VB\", \"NNP\"]\n",
        "\n",
        "plt.pie(chart, labels = my_labels, startangle = 90)\n",
        "plt.show()"
      ],
      "metadata": {
        "colab": {
          "base_uri": "https://localhost:8080/",
          "height": 406
        },
        "id": "NKbr77nf_lJo",
        "outputId": "7c8c36a0-5017-419b-bd49-5556af42fddc"
      },
      "execution_count": 31,
      "outputs": [
        {
          "output_type": "display_data",
          "data": {
            "text/plain": [
              "<Figure size 640x480 with 1 Axes>"
            ],
            "image/png": "[encoded data removed]"
          },
          "metadata": {}
        }
      ]
    },
    {
      "cell_type": "markdown",
      "source": [
        "# **Conclusions** :)"
      ],
      "metadata": {
        "id": "l1TaNKoW-ieN"
      }
    },
    {
      "cell_type": "markdown",
      "source": [
        "*Ted.com* webpage mostly consists of nouns (NN, NNP), pronouns (PRP), determiners (DT), adjectives (JJ), adverbs (RB), prepositions (IN), and verbs (VB). It may suggest that the content is likely descriptive or informative in nature. It may contain detailed descriptions, narratives, or explanations, which are typical in content-rich articles and blogs."
      ],
      "metadata": {
        "id": "ZsQ-Uaeu-pVO"
      }
    },
    {
      "cell_type": "code",
      "source": [],
      "metadata": {
        "id": "sdJEZ5M06-WS"
      },
      "execution_count": null,
      "outputs": []
    }
  ]
}